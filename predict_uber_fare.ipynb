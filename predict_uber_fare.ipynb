{
  "cells": [
    {
      "cell_type": "markdown",
      "metadata": {
        "id": "h4tcBsQwDtwZ"
      },
      "source": [
        "## Download and Setup Pyspark"
      ]
    },
    {
      "cell_type": "code",
      "execution_count": 1,
      "metadata": {
        "id": "y2l4iPfaDyAA"
      },
      "outputs": [],
      "source": [
        "\n",
        "!apt-get install openjdk-8-jdk-headless -qq > /dev/null\n",
        "!wget -q http://archive.apache.org/dist/spark/spark-3.1.1/spark-3.1.1-bin-hadoop3.2.tgz\n",
        "!tar xf spark-3.1.1-bin-hadoop3.2.tgz\n",
        "!pip install -q findspark"
      ]
    },
    {
      "cell_type": "markdown",
      "metadata": {
        "id": "W5oHrCd5D50Z"
      },
      "source": [
        "## set up the java and spark path"
      ]
    },
    {
      "cell_type": "code",
      "execution_count": 2,
      "metadata": {
        "id": "dHX5kA3PD06R"
      },
      "outputs": [],
      "source": [
        "import os\n",
        "os.environ[\"JAVA_HOME\"] = \"/usr/lib/jvm/java-8-openjdk-amd64\"\n",
        "os.environ[\"SPARK_HOME\"] = \"/content/spark-3.1.1-bin-hadoop3.2\""
      ]
    },
    {
      "cell_type": "markdown",
      "metadata": {
        "id": "MX8KyUOVD_ab"
      },
      "source": [
        "## create spark session"
      ]
    },
    {
      "cell_type": "code",
      "execution_count": 3,
      "metadata": {
        "colab": {
          "base_uri": "https://localhost:8080/",
          "height": 222
        },
        "id": "sd3bwm5tD8cT",
        "outputId": "447d4c70-3370-42a9-ed55-1c8fdf2a0712"
      },
      "outputs": [
        {
          "data": {
            "text/html": [
              "\n",
              "            <div>\n",
              "                <p><b>SparkSession - in-memory</b></p>\n",
              "                \n",
              "        <div>\n",
              "            <p><b>SparkContext</b></p>\n",
              "\n",
              "            <p><a href=\"http://033081827a00:4040\">Spark UI</a></p>\n",
              "\n",
              "            <dl>\n",
              "              <dt>Version</dt>\n",
              "                <dd><code>v3.1.1</code></dd>\n",
              "              <dt>Master</dt>\n",
              "                <dd><code>local[*]</code></dd>\n",
              "              <dt>AppName</dt>\n",
              "                <dd><code>pyspark-shell</code></dd>\n",
              "            </dl>\n",
              "        </div>\n",
              "        \n",
              "            </div>\n",
              "        "
            ],
            "text/plain": [
              "<pyspark.sql.session.SparkSession at 0x7f79c1daa2c0>"
            ]
          },
          "execution_count": 3,
          "metadata": {},
          "output_type": "execute_result"
        }
      ],
      "source": [
        "import findspark\n",
        "findspark.init()\n",
        "from pyspark.sql import SparkSession\n",
        "spark = SparkSession.builder.master(\"local[*]\").getOrCreate()\n",
        "spark.conf.set(\"spark.sql.repl.eagerEval.enabled\", True) # Property used to format output tables better\n",
        "spark"
      ]
    },
    {
      "cell_type": "markdown",
      "metadata": {
        "id": "KRGXss4FEF27"
      },
      "source": [
        "## load the data into pyspark"
      ]
    },
    {
      "cell_type": "code",
      "execution_count": 4,
      "metadata": {
        "colab": {
          "base_uri": "https://localhost:8080/"
        },
        "id": "u1CbcXTEECuJ",
        "outputId": "fdbd0919-082c-445a-a5d7-9b22aba76f22"
      },
      "outputs": [
        {
          "name": "stdout",
          "output_type": "stream",
          "text": [
            "+--------+--------------------+-----------+--------------------+------------------+-----------------+------------------+-----------------+---------------+\n",
            "|     _c0|                 key|fare_amount|     pickup_datetime|  pickup_longitude|  pickup_latitude| dropoff_longitude| dropoff_latitude|passenger_count|\n",
            "+--------+--------------------+-----------+--------------------+------------------+-----------------+------------------+-----------------+---------------+\n",
            "|24238194|2015-05-07 19:52:...|        7.5|2015-05-07 19:52:...|-73.99981689453125|40.73835372924805|   -73.99951171875|40.72321701049805|              1|\n",
            "|27835199|2009-07-17 20:04:...|        7.7|2009-07-17 20:04:...|        -73.994355|        40.728225|         -73.99471|        40.750325|              1|\n",
            "|44984355|2009-08-24 21:45:...|       12.9|2009-08-24 21:45:...|        -74.005043|         40.74077|        -73.962565|        40.772647|              1|\n",
            "|25894730|2009-06-26 08:22:...|        5.3|2009-06-26 08:22:...|        -73.976124|        40.790844|        -73.965316|        40.803349|              3|\n",
            "|17610152|2014-08-28 17:47:...|       16.0|2014-08-28 17:47:...|        -73.925023|        40.744085|-73.97308199999999|        40.761247|              5|\n",
            "+--------+--------------------+-----------+--------------------+------------------+-----------------+------------------+-----------------+---------------+\n",
            "only showing top 5 rows\n",
            "\n"
          ]
        }
      ],
      "source": [
        "# Load data from csv to a dataframe. \n",
        "# header=True means the first row is a header \n",
        "df = spark.read.csv('uber.csv', header=True)\n",
        "df.show(5)"
      ]
    },
    {
      "cell_type": "markdown",
      "metadata": {
        "id": "h7FsGAF0Dso2"
      },
      "source": [
        "# Import Libraries"
      ]
    },
    {
      "cell_type": "code",
      "execution_count": 1,
      "metadata": {},
      "outputs": [
        {
          "name": "stdout",
          "output_type": "stream",
          "text": [
            "hello\n"
          ]
        }
      ],
      "source": [
        "print(\"hello\")"
      ]
    },
    {
      "cell_type": "code",
      "execution_count": 3,
      "metadata": {
        "execution": {
          "iopub.execute_input": "2023-05-13T16:45:06.668806Z",
          "iopub.status.busy": "2023-05-13T16:45:06.668171Z",
          "iopub.status.idle": "2023-05-13T16:45:08.333441Z",
          "shell.execute_reply": "2023-05-13T16:45:08.332086Z",
          "shell.execute_reply.started": "2023-05-13T16:45:06.668689Z"
        },
        "id": "vQLkwgY1Dso4",
        "trusted": true
      },
      "outputs": [],
      "source": [
        "import numpy as np\n",
        "import pandas as pd\n",
        "import seaborn as sns\n",
        "import matplotlib.pyplot as plt\n",
        "from sklearn import svm\n",
        "from sklearn.model_selection import train_test_split\n",
        "from sklearn.neighbors import DistanceMetric\n",
        "from math import *"
      ]
    },
    {
      "cell_type": "markdown",
      "metadata": {
        "id": "y_k1DfncDso6"
      },
      "source": [
        "# Load Data"
      ]
    },
    {
      "cell_type": "markdown",
      "metadata": {
        "id": "HuGtR16nDso6"
      },
      "source": [
        "### Data Source:\n",
        "https://www.kaggle.com/datasets/yasserh/uber-fares-dataset"
      ]
    },
    {
      "cell_type": "markdown",
      "metadata": {
        "id": "0VLqsK0VExNA"
      },
      "source": [
        "## load data into pandas from pyspark"
      ]
    },
    {
      "cell_type": "code",
      "execution_count": 6,
      "metadata": {
        "execution": {
          "iopub.execute_input": "2023-05-13T16:45:08.336618Z",
          "iopub.status.busy": "2023-05-13T16:45:08.336101Z",
          "iopub.status.idle": "2023-05-13T16:45:09.504708Z",
          "shell.execute_reply": "2023-05-13T16:45:09.502953Z",
          "shell.execute_reply.started": "2023-05-13T16:45:08.336548Z"
        },
        "id": "v87YtWW1Dso6",
        "trusted": true
      },
      "outputs": [],
      "source": [
        "fare_data = df.toPandas()"
      ]
    },
    {
      "cell_type": "code",
      "execution_count": 94,
      "metadata": {
        "colab": {
          "base_uri": "https://localhost:8080/",
          "height": 206
        },
        "id": "FdNGX9KiEuOq",
        "outputId": "a2832aed-fe6a-4bb1-b127-028cd6ac6640"
      },
      "outputs": [
        {
          "data": {
            "text/html": [
              "<div>\n",
              "<style scoped>\n",
              "    .dataframe tbody tr th:only-of-type {\n",
              "        vertical-align: middle;\n",
              "    }\n",
              "\n",
              "    .dataframe tbody tr th {\n",
              "        vertical-align: top;\n",
              "    }\n",
              "\n",
              "    .dataframe thead th {\n",
              "        text-align: right;\n",
              "    }\n",
              "</style>\n",
              "<table border=\"1\" class=\"dataframe\">\n",
              "  <thead>\n",
              "    <tr style=\"text-align: right;\">\n",
              "      <th></th>\n",
              "      <th>Unnamed: 0</th>\n",
              "      <th>key</th>\n",
              "      <th>fare_amount</th>\n",
              "      <th>pickup_datetime</th>\n",
              "      <th>pickup_longitude</th>\n",
              "      <th>pickup_latitude</th>\n",
              "      <th>dropoff_longitude</th>\n",
              "      <th>dropoff_latitude</th>\n",
              "      <th>passenger_count</th>\n",
              "    </tr>\n",
              "  </thead>\n",
              "  <tbody>\n",
              "    <tr>\n",
              "      <th>0</th>\n",
              "      <td>24238194</td>\n",
              "      <td>2015-05-07 19:52:06.0000003</td>\n",
              "      <td>7.5</td>\n",
              "      <td>2015-05-07 19:52:06+00:00</td>\n",
              "      <td>-73.999817</td>\n",
              "      <td>40.738354</td>\n",
              "      <td>-73.999512</td>\n",
              "      <td>40.723217</td>\n",
              "      <td>1.0</td>\n",
              "    </tr>\n",
              "    <tr>\n",
              "      <th>1</th>\n",
              "      <td>27835199</td>\n",
              "      <td>2009-07-17 20:04:56.0000002</td>\n",
              "      <td>7.7</td>\n",
              "      <td>2009-07-17 20:04:56+00:00</td>\n",
              "      <td>-73.994355</td>\n",
              "      <td>40.728225</td>\n",
              "      <td>-73.994710</td>\n",
              "      <td>40.750325</td>\n",
              "      <td>1.0</td>\n",
              "    </tr>\n",
              "    <tr>\n",
              "      <th>2</th>\n",
              "      <td>44984355</td>\n",
              "      <td>2009-08-24 21:45:00.00000061</td>\n",
              "      <td>12.9</td>\n",
              "      <td>2009-08-24 21:45:00+00:00</td>\n",
              "      <td>-74.005043</td>\n",
              "      <td>40.740770</td>\n",
              "      <td>-73.962565</td>\n",
              "      <td>40.772647</td>\n",
              "      <td>1.0</td>\n",
              "    </tr>\n",
              "    <tr>\n",
              "      <th>3</th>\n",
              "      <td>25894730</td>\n",
              "      <td>2009-06-26 08:22:21.0000001</td>\n",
              "      <td>5.3</td>\n",
              "      <td>2009-06-26 08:22:21+00:00</td>\n",
              "      <td>-73.976124</td>\n",
              "      <td>40.790844</td>\n",
              "      <td>-73.965316</td>\n",
              "      <td>40.803349</td>\n",
              "      <td>3.0</td>\n",
              "    </tr>\n",
              "    <tr>\n",
              "      <th>4</th>\n",
              "      <td>17610152</td>\n",
              "      <td>2014-08-28 17:47:00.000000188</td>\n",
              "      <td>16.0</td>\n",
              "      <td>2014-08-28 17:47:00+00:00</td>\n",
              "      <td>-73.925023</td>\n",
              "      <td>40.744085</td>\n",
              "      <td>-73.973082</td>\n",
              "      <td>40.761247</td>\n",
              "      <td>5.0</td>\n",
              "    </tr>\n",
              "  </tbody>\n",
              "</table>\n",
              "</div>"
            ],
            "text/plain": [
              "   Unnamed: 0                            key  fare_amount   \n",
              "0    24238194    2015-05-07 19:52:06.0000003          7.5  \\\n",
              "1    27835199    2009-07-17 20:04:56.0000002          7.7   \n",
              "2    44984355   2009-08-24 21:45:00.00000061         12.9   \n",
              "3    25894730    2009-06-26 08:22:21.0000001          5.3   \n",
              "4    17610152  2014-08-28 17:47:00.000000188         16.0   \n",
              "\n",
              "            pickup_datetime  pickup_longitude  pickup_latitude   \n",
              "0 2015-05-07 19:52:06+00:00        -73.999817        40.738354  \\\n",
              "1 2009-07-17 20:04:56+00:00        -73.994355        40.728225   \n",
              "2 2009-08-24 21:45:00+00:00        -74.005043        40.740770   \n",
              "3 2009-06-26 08:22:21+00:00        -73.976124        40.790844   \n",
              "4 2014-08-28 17:47:00+00:00        -73.925023        40.744085   \n",
              "\n",
              "   dropoff_longitude  dropoff_latitude  passenger_count  \n",
              "0         -73.999512         40.723217              1.0  \n",
              "1         -73.994710         40.750325              1.0  \n",
              "2         -73.962565         40.772647              1.0  \n",
              "3         -73.965316         40.803349              3.0  \n",
              "4         -73.973082         40.761247              5.0  "
            ]
          },
          "execution_count": 94,
          "metadata": {},
          "output_type": "execute_result"
        }
      ],
      "source": [
        "fare_data.head()"
      ]
    },
    {
      "cell_type": "code",
      "execution_count": 6,
      "metadata": {
        "colab": {
          "base_uri": "https://localhost:8080/"
        },
        "id": "mjgmcKPcIxnW",
        "outputId": "e3220d4c-32c6-4e5c-c906-64095463ecf5"
      },
      "outputs": [
        {
          "data": {
            "text/plain": [
              "Unnamed: 0             int64\n",
              "key                   object\n",
              "fare_amount          float64\n",
              "pickup_datetime       object\n",
              "pickup_longitude     float64\n",
              "pickup_latitude      float64\n",
              "dropoff_longitude    float64\n",
              "dropoff_latitude     float64\n",
              "passenger_count        int64\n",
              "dtype: object"
            ]
          },
          "execution_count": 6,
          "metadata": {},
          "output_type": "execute_result"
        }
      ],
      "source": [
        "fare_data.dtypes"
      ]
    },
    {
      "cell_type": "code",
      "execution_count": 17,
      "metadata": {
        "id": "tC4ehEKsI0uX"
      },
      "outputs": [],
      "source": [
        "fare_data[['fare_amount', 'pickup_longitude', 'pickup_latitude', 'dropoff_longitude', 'dropoff_latitude', 'passenger_count']] = fare_data[['fare_amount', 'pickup_longitude', 'pickup_latitude', 'dropoff_longitude', 'dropoff_latitude', 'passenger_count']].astype(float)\n",
        "fare_data['pickup_datetime'] = pd.to_datetime(fare_data['pickup_datetime'])"
      ]
    },
    {
      "cell_type": "markdown",
      "metadata": {
        "id": "1AlxRz0fJB_h"
      },
      "source": [
        "## now check the datatypes"
      ]
    },
    {
      "cell_type": "code",
      "execution_count": 18,
      "metadata": {
        "colab": {
          "base_uri": "https://localhost:8080/"
        },
        "id": "AjyiyKzWJFZs",
        "outputId": "aaf4af08-794a-4ad1-e9c2-e76afc0b054f"
      },
      "outputs": [
        {
          "data": {
            "text/plain": [
              "Unnamed: 0                         int64\n",
              "key                               object\n",
              "fare_amount                      float64\n",
              "pickup_datetime      datetime64[ns, UTC]\n",
              "pickup_longitude                 float64\n",
              "pickup_latitude                  float64\n",
              "dropoff_longitude                float64\n",
              "dropoff_latitude                 float64\n",
              "passenger_count                  float64\n",
              "dtype: object"
            ]
          },
          "execution_count": 18,
          "metadata": {},
          "output_type": "execute_result"
        }
      ],
      "source": [
        "fare_data.dtypes"
      ]
    },
    {
      "cell_type": "code",
      "execution_count": 19,
      "metadata": {
        "colab": {
          "base_uri": "https://localhost:8080/"
        },
        "execution": {
          "iopub.execute_input": "2023-05-13T16:45:09.507500Z",
          "iopub.status.busy": "2023-05-13T16:45:09.506060Z",
          "iopub.status.idle": "2023-05-13T16:45:09.582400Z",
          "shell.execute_reply": "2023-05-13T16:45:09.581532Z",
          "shell.execute_reply.started": "2023-05-13T16:45:09.507459Z"
        },
        "id": "0XpRupJiDso7",
        "outputId": "c6b852a6-8f5d-4dac-c6c0-eb0a8fc21bf3",
        "trusted": true
      },
      "outputs": [
        {
          "name": "stdout",
          "output_type": "stream",
          "text": [
            "<class 'pandas.core.frame.DataFrame'>\n",
            "RangeIndex: 200000 entries, 0 to 199999\n",
            "Data columns (total 9 columns):\n",
            " #   Column             Non-Null Count   Dtype              \n",
            "---  ------             --------------   -----              \n",
            " 0   Unnamed: 0         200000 non-null  int64              \n",
            " 1   key                200000 non-null  object             \n",
            " 2   fare_amount        200000 non-null  float64            \n",
            " 3   pickup_datetime    200000 non-null  datetime64[ns, UTC]\n",
            " 4   pickup_longitude   200000 non-null  float64            \n",
            " 5   pickup_latitude    200000 non-null  float64            \n",
            " 6   dropoff_longitude  199999 non-null  float64            \n",
            " 7   dropoff_latitude   199999 non-null  float64            \n",
            " 8   passenger_count    200000 non-null  float64            \n",
            "dtypes: datetime64[ns, UTC](1), float64(6), int64(1), object(1)\n",
            "memory usage: 13.7+ MB\n"
          ]
        }
      ],
      "source": [
        "fare_data.info()"
      ]
    },
    {
      "cell_type": "markdown",
      "metadata": {
        "id": "SiT-EtOvDso8"
      },
      "source": [
        "Only two column with missing data, i.e, dropoff_longitude and dropoff_latitude"
      ]
    },
    {
      "cell_type": "markdown",
      "metadata": {
        "id": "ap99wT0aDso9"
      },
      "source": [
        "Mix of numerical and categorical variables:\n",
        "- Numerical Variables:\n",
        "    - pickup_datetime\n",
        "    - pickup_latitude\n",
        "    - pickup_longitude\n",
        "    - dropoff_latitude\n",
        "    - dropoff_longitude\n",
        "- Categorical Variables:\n",
        "    - passanger_count"
      ]
    },
    {
      "cell_type": "markdown",
      "metadata": {
        "id": "RYqfO3qBDso9"
      },
      "source": [
        "Target variable is fare_amount"
      ]
    },
    {
      "cell_type": "code",
      "execution_count": 20,
      "metadata": {
        "execution": {
          "iopub.execute_input": "2023-05-13T16:45:09.610805Z",
          "iopub.status.busy": "2023-05-13T16:45:09.609999Z",
          "iopub.status.idle": "2023-05-13T16:45:09.616577Z",
          "shell.execute_reply": "2023-05-13T16:45:09.615249Z",
          "shell.execute_reply.started": "2023-05-13T16:45:09.610767Z"
        },
        "id": "stE9jcGzDso9",
        "trusted": true
      },
      "outputs": [],
      "source": [
        "data = fare_data"
      ]
    },
    {
      "cell_type": "code",
      "execution_count": 21,
      "metadata": {
        "colab": {
          "base_uri": "https://localhost:8080/"
        },
        "execution": {
          "iopub.execute_input": "2023-05-13T16:45:09.618349Z",
          "iopub.status.busy": "2023-05-13T16:45:09.617994Z",
          "iopub.status.idle": "2023-05-13T16:45:09.848800Z",
          "shell.execute_reply": "2023-05-13T16:45:09.847487Z",
          "shell.execute_reply.started": "2023-05-13T16:45:09.618317Z"
        },
        "id": "MqidvppRDso-",
        "outputId": "582afc3a-a1b0-43bd-f831-27a36a3f09d6",
        "trusted": true
      },
      "outputs": [
        {
          "data": {
            "text/plain": [
              "Unnamed: 0           200000\n",
              "key                  200000\n",
              "fare_amount            1244\n",
              "pickup_datetime      196629\n",
              "pickup_longitude      71066\n",
              "pickup_latitude       83835\n",
              "dropoff_longitude     76894\n",
              "dropoff_latitude      90585\n",
              "passenger_count           8\n",
              "dtype: int64"
            ]
          },
          "execution_count": 21,
          "metadata": {},
          "output_type": "execute_result"
        }
      ],
      "source": [
        "data.nunique()"
      ]
    },
    {
      "cell_type": "code",
      "execution_count": 22,
      "metadata": {
        "colab": {
          "base_uri": "https://localhost:8080/"
        },
        "execution": {
          "iopub.execute_input": "2023-05-13T16:45:09.851056Z",
          "iopub.status.busy": "2023-05-13T16:45:09.850545Z",
          "iopub.status.idle": "2023-05-13T16:45:09.916196Z",
          "shell.execute_reply": "2023-05-13T16:45:09.914697Z",
          "shell.execute_reply.started": "2023-05-13T16:45:09.851008Z"
        },
        "id": "baF3LQvpDso-",
        "outputId": "ecee68d6-38b8-469c-afdf-1884995e10d5",
        "trusted": true
      },
      "outputs": [
        {
          "name": "stdout",
          "output_type": "stream",
          "text": [
            "<class 'pandas.core.frame.DataFrame'>\n",
            "RangeIndex: 200000 entries, 0 to 199999\n",
            "Data columns (total 9 columns):\n",
            " #   Column             Non-Null Count   Dtype              \n",
            "---  ------             --------------   -----              \n",
            " 0   Unnamed: 0         200000 non-null  int64              \n",
            " 1   key                200000 non-null  object             \n",
            " 2   fare_amount        200000 non-null  float64            \n",
            " 3   pickup_datetime    200000 non-null  datetime64[ns, UTC]\n",
            " 4   pickup_longitude   200000 non-null  float64            \n",
            " 5   pickup_latitude    200000 non-null  float64            \n",
            " 6   dropoff_longitude  199999 non-null  float64            \n",
            " 7   dropoff_latitude   199999 non-null  float64            \n",
            " 8   passenger_count    200000 non-null  float64            \n",
            "dtypes: datetime64[ns, UTC](1), float64(6), int64(1), object(1)\n",
            "memory usage: 13.7+ MB\n"
          ]
        }
      ],
      "source": [
        "data.info()"
      ]
    },
    {
      "cell_type": "markdown",
      "metadata": {
        "id": "WpolwlZsDso-"
      },
      "source": [
        "dropoff_longitude and dropoff_latitude have one missing row. We need to exclude this"
      ]
    },
    {
      "cell_type": "code",
      "execution_count": 23,
      "metadata": {
        "colab": {
          "base_uri": "https://localhost:8080/"
        },
        "execution": {
          "iopub.execute_input": "2023-05-13T16:45:09.918319Z",
          "iopub.status.busy": "2023-05-13T16:45:09.917872Z",
          "iopub.status.idle": "2023-05-13T16:45:10.150905Z",
          "shell.execute_reply": "2023-05-13T16:45:10.149362Z",
          "shell.execute_reply.started": "2023-05-13T16:45:09.918280Z"
        },
        "id": "2_LaLcNcDso_",
        "outputId": "3cc34e27-66a1-49e2-8621-4c6f13aad020",
        "trusted": true
      },
      "outputs": [
        {
          "data": {
            "text/plain": [
              "Unnamed: 0           200000\n",
              "key                  200000\n",
              "fare_amount            1244\n",
              "pickup_datetime      196629\n",
              "pickup_longitude      71066\n",
              "pickup_latitude       83835\n",
              "dropoff_longitude     76894\n",
              "dropoff_latitude      90585\n",
              "passenger_count           8\n",
              "dtype: int64"
            ]
          },
          "execution_count": 23,
          "metadata": {},
          "output_type": "execute_result"
        }
      ],
      "source": [
        "data.nunique()"
      ]
    },
    {
      "cell_type": "code",
      "execution_count": 24,
      "metadata": {
        "execution": {
          "iopub.execute_input": "2023-05-13T16:45:10.154754Z",
          "iopub.status.busy": "2023-05-13T16:45:10.153590Z",
          "iopub.status.idle": "2023-05-13T16:45:10.221124Z",
          "shell.execute_reply": "2023-05-13T16:45:10.219907Z",
          "shell.execute_reply.started": "2023-05-13T16:45:10.154694Z"
        },
        "id": "OsLyao_UDso_",
        "trusted": true
      },
      "outputs": [],
      "source": [
        "# Dropping the columns 'Unnamed: 0' and 'key' as well as NA rows\n",
        "\n",
        "data = data.drop(['Unnamed: 0','key'],axis=1)\n",
        "data.dropna(axis=0,inplace=True)"
      ]
    },
    {
      "attachments": {},
      "cell_type": "markdown",
      "metadata": {
        "id": "54mqxyF_Dso_"
      },
      "source": [
        "## Data Pre-processing"
      ]
    },
    {
      "cell_type": "code",
      "execution_count": 25,
      "metadata": {
        "colab": {
          "base_uri": "https://localhost:8080/",
          "height": 238
        },
        "execution": {
          "iopub.execute_input": "2023-05-13T16:45:10.224100Z",
          "iopub.status.busy": "2023-05-13T16:45:10.222919Z",
          "iopub.status.idle": "2023-05-13T16:45:10.318695Z",
          "shell.execute_reply": "2023-05-13T16:45:10.317481Z",
          "shell.execute_reply.started": "2023-05-13T16:45:10.224050Z"
        },
        "id": "oF-PljIPDso_",
        "outputId": "2ab8496f-3e69-45e0-ba2c-f553c82955b5",
        "trusted": true
      },
      "outputs": [
        {
          "data": {
            "text/html": [
              "<div>\n",
              "<style scoped>\n",
              "    .dataframe tbody tr th:only-of-type {\n",
              "        vertical-align: middle;\n",
              "    }\n",
              "\n",
              "    .dataframe tbody tr th {\n",
              "        vertical-align: top;\n",
              "    }\n",
              "\n",
              "    .dataframe thead th {\n",
              "        text-align: right;\n",
              "    }\n",
              "</style>\n",
              "<table border=\"1\" class=\"dataframe\">\n",
              "  <thead>\n",
              "    <tr style=\"text-align: right;\">\n",
              "      <th></th>\n",
              "      <th>count</th>\n",
              "      <th>mean</th>\n",
              "      <th>std</th>\n",
              "      <th>min</th>\n",
              "      <th>25%</th>\n",
              "      <th>50%</th>\n",
              "      <th>75%</th>\n",
              "      <th>max</th>\n",
              "    </tr>\n",
              "  </thead>\n",
              "  <tbody>\n",
              "    <tr>\n",
              "      <th>fare_amount</th>\n",
              "      <td>199999.0</td>\n",
              "      <td>11.359892</td>\n",
              "      <td>9.901760</td>\n",
              "      <td>-52.000000</td>\n",
              "      <td>6.000000</td>\n",
              "      <td>8.500000</td>\n",
              "      <td>12.500000</td>\n",
              "      <td>499.000000</td>\n",
              "    </tr>\n",
              "    <tr>\n",
              "      <th>pickup_longitude</th>\n",
              "      <td>199999.0</td>\n",
              "      <td>-72.527631</td>\n",
              "      <td>11.437815</td>\n",
              "      <td>-1340.648410</td>\n",
              "      <td>-73.992065</td>\n",
              "      <td>-73.981823</td>\n",
              "      <td>-73.967154</td>\n",
              "      <td>57.418457</td>\n",
              "    </tr>\n",
              "    <tr>\n",
              "      <th>pickup_latitude</th>\n",
              "      <td>199999.0</td>\n",
              "      <td>39.935881</td>\n",
              "      <td>7.720558</td>\n",
              "      <td>-74.015515</td>\n",
              "      <td>40.734796</td>\n",
              "      <td>40.752592</td>\n",
              "      <td>40.767158</td>\n",
              "      <td>1644.421482</td>\n",
              "    </tr>\n",
              "    <tr>\n",
              "      <th>dropoff_longitude</th>\n",
              "      <td>199999.0</td>\n",
              "      <td>-72.525292</td>\n",
              "      <td>13.117408</td>\n",
              "      <td>-3356.666300</td>\n",
              "      <td>-73.991407</td>\n",
              "      <td>-73.980093</td>\n",
              "      <td>-73.963658</td>\n",
              "      <td>1153.572603</td>\n",
              "    </tr>\n",
              "    <tr>\n",
              "      <th>dropoff_latitude</th>\n",
              "      <td>199999.0</td>\n",
              "      <td>39.923890</td>\n",
              "      <td>6.794829</td>\n",
              "      <td>-881.985513</td>\n",
              "      <td>40.733823</td>\n",
              "      <td>40.753042</td>\n",
              "      <td>40.768001</td>\n",
              "      <td>872.697628</td>\n",
              "    </tr>\n",
              "    <tr>\n",
              "      <th>passenger_count</th>\n",
              "      <td>199999.0</td>\n",
              "      <td>1.684543</td>\n",
              "      <td>1.385995</td>\n",
              "      <td>0.000000</td>\n",
              "      <td>1.000000</td>\n",
              "      <td>1.000000</td>\n",
              "      <td>2.000000</td>\n",
              "      <td>208.000000</td>\n",
              "    </tr>\n",
              "  </tbody>\n",
              "</table>\n",
              "</div>"
            ],
            "text/plain": [
              "                      count       mean        std          min        25%   \n",
              "fare_amount        199999.0  11.359892   9.901760   -52.000000   6.000000  \\\n",
              "pickup_longitude   199999.0 -72.527631  11.437815 -1340.648410 -73.992065   \n",
              "pickup_latitude    199999.0  39.935881   7.720558   -74.015515  40.734796   \n",
              "dropoff_longitude  199999.0 -72.525292  13.117408 -3356.666300 -73.991407   \n",
              "dropoff_latitude   199999.0  39.923890   6.794829  -881.985513  40.733823   \n",
              "passenger_count    199999.0   1.684543   1.385995     0.000000   1.000000   \n",
              "\n",
              "                         50%        75%          max  \n",
              "fare_amount         8.500000  12.500000   499.000000  \n",
              "pickup_longitude  -73.981823 -73.967154    57.418457  \n",
              "pickup_latitude    40.752592  40.767158  1644.421482  \n",
              "dropoff_longitude -73.980093 -73.963658  1153.572603  \n",
              "dropoff_latitude   40.753042  40.768001   872.697628  \n",
              "passenger_count     1.000000   2.000000   208.000000  "
            ]
          },
          "execution_count": 25,
          "metadata": {},
          "output_type": "execute_result"
        }
      ],
      "source": [
        "data.describe().T"
      ]
    },
    {
      "cell_type": "markdown",
      "metadata": {
        "id": "Kk5Ja-aNDspA"
      },
      "source": [
        "Possibility of some outliers in fare amount and passanger\n",
        "\n",
        "Outliers:\n",
        "- Fare Amount is between -52 to 499. The negative amount seems unrealistic. Base fare to be set at $2.5\n",
        "- Passanger count max is 208, which is also not possible. Max to be set at 5"
      ]
    },
    {
      "cell_type": "markdown",
      "metadata": {
        "id": "b7DqFksmDspA"
      },
      "source": [
        "### Identifying Correlations"
      ]
    },
    {
      "cell_type": "code",
      "execution_count": 26,
      "metadata": {
        "colab": {
          "base_uri": "https://localhost:8080/",
          "height": 294
        },
        "execution": {
          "iopub.execute_input": "2023-05-13T16:45:10.325811Z",
          "iopub.status.busy": "2023-05-13T16:45:10.325397Z",
          "iopub.status.idle": "2023-05-13T16:45:10.383740Z",
          "shell.execute_reply": "2023-05-13T16:45:10.382614Z",
          "shell.execute_reply.started": "2023-05-13T16:45:10.325773Z"
        },
        "id": "wmntdutLDspA",
        "outputId": "32c79ab1-e7e1-4493-ff75-4ffc195322b9",
        "trusted": true
      },
      "outputs": [
        {
          "data": {
            "text/html": [
              "<div>\n",
              "<style scoped>\n",
              "    .dataframe tbody tr th:only-of-type {\n",
              "        vertical-align: middle;\n",
              "    }\n",
              "\n",
              "    .dataframe tbody tr th {\n",
              "        vertical-align: top;\n",
              "    }\n",
              "\n",
              "    .dataframe thead th {\n",
              "        text-align: right;\n",
              "    }\n",
              "</style>\n",
              "<table border=\"1\" class=\"dataframe\">\n",
              "  <thead>\n",
              "    <tr style=\"text-align: right;\">\n",
              "      <th></th>\n",
              "      <th>fare_amount</th>\n",
              "      <th>pickup_datetime</th>\n",
              "      <th>pickup_longitude</th>\n",
              "      <th>pickup_latitude</th>\n",
              "      <th>dropoff_longitude</th>\n",
              "      <th>dropoff_latitude</th>\n",
              "      <th>passenger_count</th>\n",
              "    </tr>\n",
              "  </thead>\n",
              "  <tbody>\n",
              "    <tr>\n",
              "      <th>fare_amount</th>\n",
              "      <td>1.000000</td>\n",
              "      <td>0.122765</td>\n",
              "      <td>0.010458</td>\n",
              "      <td>-0.008482</td>\n",
              "      <td>0.008986</td>\n",
              "      <td>-0.011014</td>\n",
              "      <td>0.010158</td>\n",
              "    </tr>\n",
              "    <tr>\n",
              "      <th>pickup_datetime</th>\n",
              "      <td>0.122765</td>\n",
              "      <td>1.000000</td>\n",
              "      <td>0.009363</td>\n",
              "      <td>-0.009677</td>\n",
              "      <td>0.008018</td>\n",
              "      <td>-0.010805</td>\n",
              "      <td>0.006398</td>\n",
              "    </tr>\n",
              "    <tr>\n",
              "      <th>pickup_longitude</th>\n",
              "      <td>0.010458</td>\n",
              "      <td>0.009363</td>\n",
              "      <td>1.000000</td>\n",
              "      <td>-0.816461</td>\n",
              "      <td>0.833026</td>\n",
              "      <td>-0.846324</td>\n",
              "      <td>-0.000415</td>\n",
              "    </tr>\n",
              "    <tr>\n",
              "      <th>pickup_latitude</th>\n",
              "      <td>-0.008482</td>\n",
              "      <td>-0.009677</td>\n",
              "      <td>-0.816461</td>\n",
              "      <td>1.000000</td>\n",
              "      <td>-0.774787</td>\n",
              "      <td>0.702367</td>\n",
              "      <td>-0.001559</td>\n",
              "    </tr>\n",
              "    <tr>\n",
              "      <th>dropoff_longitude</th>\n",
              "      <td>0.008986</td>\n",
              "      <td>0.008018</td>\n",
              "      <td>0.833026</td>\n",
              "      <td>-0.774787</td>\n",
              "      <td>1.000000</td>\n",
              "      <td>-0.917010</td>\n",
              "      <td>0.000033</td>\n",
              "    </tr>\n",
              "    <tr>\n",
              "      <th>dropoff_latitude</th>\n",
              "      <td>-0.011014</td>\n",
              "      <td>-0.010805</td>\n",
              "      <td>-0.846324</td>\n",
              "      <td>0.702367</td>\n",
              "      <td>-0.917010</td>\n",
              "      <td>1.000000</td>\n",
              "      <td>-0.000659</td>\n",
              "    </tr>\n",
              "    <tr>\n",
              "      <th>passenger_count</th>\n",
              "      <td>0.010158</td>\n",
              "      <td>0.006398</td>\n",
              "      <td>-0.000415</td>\n",
              "      <td>-0.001559</td>\n",
              "      <td>0.000033</td>\n",
              "      <td>-0.000659</td>\n",
              "      <td>1.000000</td>\n",
              "    </tr>\n",
              "  </tbody>\n",
              "</table>\n",
              "</div>"
            ],
            "text/plain": [
              "                   fare_amount  pickup_datetime  pickup_longitude   \n",
              "fare_amount           1.000000         0.122765          0.010458  \\\n",
              "pickup_datetime       0.122765         1.000000          0.009363   \n",
              "pickup_longitude      0.010458         0.009363          1.000000   \n",
              "pickup_latitude      -0.008482        -0.009677         -0.816461   \n",
              "dropoff_longitude     0.008986         0.008018          0.833026   \n",
              "dropoff_latitude     -0.011014        -0.010805         -0.846324   \n",
              "passenger_count       0.010158         0.006398         -0.000415   \n",
              "\n",
              "                   pickup_latitude  dropoff_longitude  dropoff_latitude   \n",
              "fare_amount              -0.008482           0.008986         -0.011014  \\\n",
              "pickup_datetime          -0.009677           0.008018         -0.010805   \n",
              "pickup_longitude         -0.816461           0.833026         -0.846324   \n",
              "pickup_latitude           1.000000          -0.774787          0.702367   \n",
              "dropoff_longitude        -0.774787           1.000000         -0.917010   \n",
              "dropoff_latitude          0.702367          -0.917010          1.000000   \n",
              "passenger_count          -0.001559           0.000033         -0.000659   \n",
              "\n",
              "                   passenger_count  \n",
              "fare_amount               0.010158  \n",
              "pickup_datetime           0.006398  \n",
              "pickup_longitude         -0.000415  \n",
              "pickup_latitude          -0.001559  \n",
              "dropoff_longitude         0.000033  \n",
              "dropoff_latitude         -0.000659  \n",
              "passenger_count           1.000000  "
            ]
          },
          "execution_count": 26,
          "metadata": {},
          "output_type": "execute_result"
        }
      ],
      "source": [
        "# Identify Correlation\n",
        "data.corr()"
      ]
    },
    {
      "cell_type": "code",
      "execution_count": 95,
      "metadata": {
        "colab": {
          "base_uri": "https://localhost:8080/",
          "height": 911
        },
        "execution": {
          "iopub.execute_input": "2023-05-13T16:45:10.386125Z",
          "iopub.status.busy": "2023-05-13T16:45:10.385205Z",
          "iopub.status.idle": "2023-05-13T16:45:11.085485Z",
          "shell.execute_reply": "2023-05-13T16:45:11.084483Z",
          "shell.execute_reply.started": "2023-05-13T16:45:10.386087Z"
        },
        "id": "aDhE3Zl2DspA",
        "outputId": "f8ea6019-3680-4150-a696-034a9efff99d",
        "trusted": true
      },
      "outputs": [
        {
          "data": {
            "text/plain": [
              "<Axes: >"
            ]
          },
          "execution_count": 95,
          "metadata": {},
          "output_type": "execute_result"
        },
        {
          "data": {
            "image/png": "[encoded data removed]",
            "text/plain": [
              "<Figure size 1500x1000 with 2 Axes>"
            ]
          },
          "metadata": {},
          "output_type": "display_data"
        }
      ],
      "source": [
        "# Plot the Correlation matrix\n",
        "plt.figure(figsize=(15,10))\n",
        "sns.heatmap(data.corr(), annot=True, linewidths=.5, vmin = -1, vmax = 1, fmt = '.2g', cmap='viridis')"
      ]
    },
    {
      "cell_type": "markdown",
      "metadata": {
        "id": "B06Jnwn0DspB"
      },
      "source": [
        "High correlation can be observed between the geo-spatial data points, which was expected. Therefore, there is no need to drop any of the independent variables"
      ]
    },
    {
      "cell_type": "code",
      "execution_count": 29,
      "metadata": {
        "execution": {
          "iopub.execute_input": "2023-05-13T16:45:11.097846Z",
          "iopub.status.busy": "2023-05-13T16:45:11.096996Z",
          "iopub.status.idle": "2023-05-13T16:45:11.110801Z",
          "shell.execute_reply": "2023-05-13T16:45:11.109658Z",
          "shell.execute_reply.started": "2023-05-13T16:45:11.097805Z"
        },
        "id": "EFiwZnuWDspB",
        "trusted": true
      },
      "outputs": [],
      "source": [
        "# Define formula to calculate haversine distance\n",
        "def distance(longitude1, latitude1, longitude2, latitude2):\n",
        "    travel_dist = []\n",
        "    \n",
        "    for pos in range(len(longitude1)):\n",
        "        long1,lati1,long2,lati2 = map(radians,[longitude1[pos],latitude1[pos],longitude2[pos],latitude2[pos]])\n",
        "        dist_long = long2 - long1\n",
        "        dist_lati = lati2 - lati1\n",
        "        a = sin(dist_lati/2)**2 + cos(lati1) * cos(lati2) * sin(dist_long/2)**2\n",
        "        c = 2 * asin(sqrt(a))*6371\n",
        "        travel_dist.append(c)\n",
        "       \n",
        "    return travel_dist"
      ]
    },
    {
      "cell_type": "code",
      "execution_count": 30,
      "metadata": {
        "colab": {
          "base_uri": "https://localhost:8080/"
        },
        "id": "WvhKUZSzFb8n",
        "outputId": "488f4033-0fba-46f1-a5d8-e014bf321e7f"
      },
      "outputs": [
        {
          "data": {
            "text/plain": [
              "fare_amount                      float64\n",
              "pickup_datetime      datetime64[ns, UTC]\n",
              "pickup_longitude                 float64\n",
              "pickup_latitude                  float64\n",
              "dropoff_longitude                float64\n",
              "dropoff_latitude                 float64\n",
              "passenger_count                  float64\n",
              "dtype: object"
            ]
          },
          "execution_count": 30,
          "metadata": {},
          "output_type": "execute_result"
        }
      ],
      "source": [
        "data.dtypes"
      ]
    },
    {
      "cell_type": "code",
      "execution_count": 31,
      "metadata": {
        "execution": {
          "iopub.execute_input": "2023-05-13T16:45:11.112924Z",
          "iopub.status.busy": "2023-05-13T16:45:11.112415Z",
          "iopub.status.idle": "2023-05-13T16:45:11.972772Z",
          "shell.execute_reply": "2023-05-13T16:45:11.971841Z",
          "shell.execute_reply.started": "2023-05-13T16:45:11.112884Z"
        },
        "id": "CxTvJ8FhDspB",
        "trusted": true
      },
      "outputs": [],
      "source": [
        "# Calculate Haversine distance for each row and add distance in km as a new column\n",
        "data['distance_travelled'] = distance(data['pickup_longitude'].to_numpy(),\n",
        "                                                data['pickup_latitude'].to_numpy(),\n",
        "                                                data['dropoff_longitude'].to_numpy(),\n",
        "                                                data['dropoff_latitude'].to_numpy()\n",
        "                                              )"
      ]
    },
    {
      "cell_type": "code",
      "execution_count": 32,
      "metadata": {
        "colab": {
          "base_uri": "https://localhost:8080/"
        },
        "execution": {
          "iopub.execute_input": "2023-05-13T16:45:11.975065Z",
          "iopub.status.busy": "2023-05-13T16:45:11.973996Z",
          "iopub.status.idle": "2023-05-13T16:45:12.014791Z",
          "shell.execute_reply": "2023-05-13T16:45:12.013430Z",
          "shell.execute_reply.started": "2023-05-13T16:45:11.975027Z"
        },
        "id": "cdxGcM9RDspB",
        "outputId": "4ed2289b-a1a1-4dc3-ee44-4d50b63d395d",
        "trusted": true
      },
      "outputs": [
        {
          "name": "stdout",
          "output_type": "stream",
          "text": [
            "<class 'pandas.core.frame.DataFrame'>\n",
            "Index: 199999 entries, 0 to 199999\n",
            "Data columns (total 8 columns):\n",
            " #   Column              Non-Null Count   Dtype              \n",
            "---  ------              --------------   -----              \n",
            " 0   fare_amount         199999 non-null  float64            \n",
            " 1   pickup_datetime     199999 non-null  datetime64[ns, UTC]\n",
            " 2   pickup_longitude    199999 non-null  float64            \n",
            " 3   pickup_latitude     199999 non-null  float64            \n",
            " 4   dropoff_longitude   199999 non-null  float64            \n",
            " 5   dropoff_latitude    199999 non-null  float64            \n",
            " 6   passenger_count     199999 non-null  float64            \n",
            " 7   distance_travelled  199999 non-null  float64            \n",
            "dtypes: datetime64[ns, UTC](1), float64(7)\n",
            "memory usage: 13.7 MB\n"
          ]
        }
      ],
      "source": [
        "data.info()"
      ]
    },
    {
      "cell_type": "code",
      "execution_count": 33,
      "metadata": {
        "execution": {
          "iopub.execute_input": "2023-05-13T16:45:12.017254Z",
          "iopub.status.busy": "2023-05-13T16:45:12.016872Z",
          "iopub.status.idle": "2023-05-13T16:45:46.879699Z",
          "shell.execute_reply": "2023-05-13T16:45:46.878649Z",
          "shell.execute_reply.started": "2023-05-13T16:45:12.017217Z"
        },
        "id": "-jtnn6MpDspC",
        "trusted": true
      },
      "outputs": [],
      "source": [
        "# As we can see, pickup_datetime is being read as an object data type. However, we need to convert it into datetime data type\n",
        "data['pickup_datetime']  = pd.to_datetime(data['pickup_datetime'])"
      ]
    },
    {
      "cell_type": "code",
      "execution_count": 34,
      "metadata": {
        "colab": {
          "base_uri": "https://localhost:8080/"
        },
        "execution": {
          "iopub.execute_input": "2023-05-13T16:45:46.882017Z",
          "iopub.status.busy": "2023-05-13T16:45:46.881327Z",
          "iopub.status.idle": "2023-05-13T16:45:46.901020Z",
          "shell.execute_reply": "2023-05-13T16:45:46.899558Z",
          "shell.execute_reply.started": "2023-05-13T16:45:46.881977Z"
        },
        "id": "O192TmUIDspC",
        "outputId": "946b8aed-aaf5-4e03-eb76-91e532f0fe5e",
        "trusted": true
      },
      "outputs": [
        {
          "name": "stdout",
          "output_type": "stream",
          "text": [
            "<class 'pandas.core.frame.DataFrame'>\n",
            "Index: 199999 entries, 0 to 199999\n",
            "Data columns (total 8 columns):\n",
            " #   Column              Non-Null Count   Dtype              \n",
            "---  ------              --------------   -----              \n",
            " 0   fare_amount         199999 non-null  float64            \n",
            " 1   pickup_datetime     199999 non-null  datetime64[ns, UTC]\n",
            " 2   pickup_longitude    199999 non-null  float64            \n",
            " 3   pickup_latitude     199999 non-null  float64            \n",
            " 4   dropoff_longitude   199999 non-null  float64            \n",
            " 5   dropoff_latitude    199999 non-null  float64            \n",
            " 6   passenger_count     199999 non-null  float64            \n",
            " 7   distance_travelled  199999 non-null  float64            \n",
            "dtypes: datetime64[ns, UTC](1), float64(7)\n",
            "memory usage: 13.7 MB\n"
          ]
        }
      ],
      "source": [
        "data.info()"
      ]
    },
    {
      "cell_type": "code",
      "execution_count": 35,
      "metadata": {
        "execution": {
          "iopub.execute_input": "2023-05-13T16:45:46.904167Z",
          "iopub.status.busy": "2023-05-13T16:45:46.902997Z",
          "iopub.status.idle": "2023-05-13T16:45:47.598816Z",
          "shell.execute_reply": "2023-05-13T16:45:47.597615Z",
          "shell.execute_reply.started": "2023-05-13T16:45:46.904115Z"
        },
        "id": "PNnr431zDspC",
        "trusted": true
      },
      "outputs": [],
      "source": [
        "# From pickup_datetime extract date, month, year, weekday and dayname\n",
        "from datetime import datetime\n",
        "\n",
        "data['date'] = pd.to_datetime(data['pickup_datetime']).dt.date\n",
        "data['month'] = pd.to_datetime(data['pickup_datetime']).dt.month\n",
        "data['year'] = pd.to_datetime(data['pickup_datetime']).dt.year\n",
        "data['day_of_the_week'] = pd.to_datetime(data['pickup_datetime']).dt.weekday\n",
        "data['day_name'] = pd.to_datetime(data['pickup_datetime']).dt.day_name()\n",
        "data['pickup_time'] = pd.to_datetime(data['pickup_datetime']).dt.time\n",
        "data['pickup_hour'] = pd.to_datetime(data['pickup_datetime']).dt.hour"
      ]
    },
    {
      "cell_type": "code",
      "execution_count": 36,
      "metadata": {
        "colab": {
          "base_uri": "https://localhost:8080/"
        },
        "execution": {
          "iopub.execute_input": "2023-05-13T16:45:47.601384Z",
          "iopub.status.busy": "2023-05-13T16:45:47.600704Z",
          "iopub.status.idle": "2023-05-13T16:45:47.688103Z",
          "shell.execute_reply": "2023-05-13T16:45:47.686764Z",
          "shell.execute_reply.started": "2023-05-13T16:45:47.601344Z"
        },
        "id": "XhCVbAtcDspC",
        "outputId": "c97c1279-87c7-480f-d095-1d224becf13b",
        "scrolled": true,
        "trusted": true
      },
      "outputs": [
        {
          "name": "stdout",
          "output_type": "stream",
          "text": [
            "<class 'pandas.core.frame.DataFrame'>\n",
            "Index: 199999 entries, 0 to 199999\n",
            "Data columns (total 15 columns):\n",
            " #   Column              Non-Null Count   Dtype              \n",
            "---  ------              --------------   -----              \n",
            " 0   fare_amount         199999 non-null  float64            \n",
            " 1   pickup_datetime     199999 non-null  datetime64[ns, UTC]\n",
            " 2   pickup_longitude    199999 non-null  float64            \n",
            " 3   pickup_latitude     199999 non-null  float64            \n",
            " 4   dropoff_longitude   199999 non-null  float64            \n",
            " 5   dropoff_latitude    199999 non-null  float64            \n",
            " 6   passenger_count     199999 non-null  float64            \n",
            " 7   distance_travelled  199999 non-null  float64            \n",
            " 8   date                199999 non-null  object             \n",
            " 9   month               199999 non-null  int32              \n",
            " 10  year                199999 non-null  int32              \n",
            " 11  day_of_the_week     199999 non-null  int32              \n",
            " 12  day_name            199999 non-null  object             \n",
            " 13  pickup_time         199999 non-null  object             \n",
            " 14  pickup_hour         199999 non-null  int32              \n",
            "dtypes: datetime64[ns, UTC](1), float64(7), int32(4), object(3)\n",
            "memory usage: 21.4+ MB\n"
          ]
        }
      ],
      "source": [
        "data.info()"
      ]
    },
    {
      "cell_type": "markdown",
      "metadata": {
        "id": "15WvA2xGDspC"
      },
      "source": [
        "### Outlier Treatment"
      ]
    },
    {
      "cell_type": "markdown",
      "metadata": {
        "id": "QVNXJaZhDspC"
      },
      "source": [
        "The following treatment is being done to outliers:\n",
        "- passanger_count should be less than 5\n",
        "- rows with passanger_count = 0 should be dropped\n",
        "- fare_amount should be kept to the minimum set by Uber, i.e., $2.5\n",
        "- distance should be maximum 130 km\n",
        "- distance travelled cannot be zero. Rows with distance = 0 must be dropped"
      ]
    },
    {
      "cell_type": "code",
      "execution_count": 37,
      "metadata": {
        "execution": {
          "iopub.execute_input": "2023-05-13T16:45:47.690223Z",
          "iopub.status.busy": "2023-05-13T16:45:47.689868Z",
          "iopub.status.idle": "2023-05-13T16:45:47.982483Z",
          "shell.execute_reply": "2023-05-13T16:45:47.981132Z",
          "shell.execute_reply.started": "2023-05-13T16:45:47.690182Z"
        },
        "id": "WSljqRWSDspD",
        "trusted": true
      },
      "outputs": [],
      "source": [
        "data.drop(data[data['passenger_count'] > 5].index, axis=0, inplace = True)\n",
        "data.drop(data[data['passenger_count'] == 0].index, axis=0, inplace = True)\n",
        "data.drop(data[data['fare_amount'] < 2.5].index, axis=0, inplace = True)\n",
        "data.drop(data[data['distance_travelled'] > 130].index, axis=0, inplace = True)\n",
        "data.drop(data[data['distance_travelled'] == 0].index, axis=0, inplace = True)\n",
        "data.dropna(axis=0,inplace=True)"
      ]
    },
    {
      "cell_type": "code",
      "execution_count": 38,
      "metadata": {
        "colab": {
          "base_uri": "https://localhost:8080/",
          "height": 357
        },
        "execution": {
          "iopub.execute_input": "2023-05-13T16:45:47.984389Z",
          "iopub.status.busy": "2023-05-13T16:45:47.984020Z",
          "iopub.status.idle": "2023-05-13T16:45:48.009432Z",
          "shell.execute_reply": "2023-05-13T16:45:48.008078Z",
          "shell.execute_reply.started": "2023-05-13T16:45:47.984355Z"
        },
        "id": "MMvC8E_zDspD",
        "outputId": "5c3aa78d-9ddf-4728-88d4-e1b3c58d8c55",
        "trusted": true
      },
      "outputs": [
        {
          "data": {
            "text/html": [
              "<div>\n",
              "<style scoped>\n",
              "    .dataframe tbody tr th:only-of-type {\n",
              "        vertical-align: middle;\n",
              "    }\n",
              "\n",
              "    .dataframe tbody tr th {\n",
              "        vertical-align: top;\n",
              "    }\n",
              "\n",
              "    .dataframe thead th {\n",
              "        text-align: right;\n",
              "    }\n",
              "</style>\n",
              "<table border=\"1\" class=\"dataframe\">\n",
              "  <thead>\n",
              "    <tr style=\"text-align: right;\">\n",
              "      <th></th>\n",
              "      <th>fare_amount</th>\n",
              "      <th>pickup_datetime</th>\n",
              "      <th>pickup_longitude</th>\n",
              "      <th>pickup_latitude</th>\n",
              "      <th>dropoff_longitude</th>\n",
              "      <th>dropoff_latitude</th>\n",
              "      <th>passenger_count</th>\n",
              "      <th>distance_travelled</th>\n",
              "      <th>date</th>\n",
              "      <th>month</th>\n",
              "      <th>year</th>\n",
              "      <th>day_of_the_week</th>\n",
              "      <th>day_name</th>\n",
              "      <th>pickup_time</th>\n",
              "      <th>pickup_hour</th>\n",
              "    </tr>\n",
              "  </thead>\n",
              "  <tbody>\n",
              "    <tr>\n",
              "      <th>0</th>\n",
              "      <td>7.5</td>\n",
              "      <td>2015-05-07 19:52:06+00:00</td>\n",
              "      <td>-73.999817</td>\n",
              "      <td>40.738354</td>\n",
              "      <td>-73.999512</td>\n",
              "      <td>40.723217</td>\n",
              "      <td>1.0</td>\n",
              "      <td>1.683323</td>\n",
              "      <td>2015-05-07</td>\n",
              "      <td>5</td>\n",
              "      <td>2015</td>\n",
              "      <td>3</td>\n",
              "      <td>Thursday</td>\n",
              "      <td>19:52:06</td>\n",
              "      <td>19</td>\n",
              "    </tr>\n",
              "    <tr>\n",
              "      <th>1</th>\n",
              "      <td>7.7</td>\n",
              "      <td>2009-07-17 20:04:56+00:00</td>\n",
              "      <td>-73.994355</td>\n",
              "      <td>40.728225</td>\n",
              "      <td>-73.994710</td>\n",
              "      <td>40.750325</td>\n",
              "      <td>1.0</td>\n",
              "      <td>2.457590</td>\n",
              "      <td>2009-07-17</td>\n",
              "      <td>7</td>\n",
              "      <td>2009</td>\n",
              "      <td>4</td>\n",
              "      <td>Friday</td>\n",
              "      <td>20:04:56</td>\n",
              "      <td>20</td>\n",
              "    </tr>\n",
              "    <tr>\n",
              "      <th>2</th>\n",
              "      <td>12.9</td>\n",
              "      <td>2009-08-24 21:45:00+00:00</td>\n",
              "      <td>-74.005043</td>\n",
              "      <td>40.740770</td>\n",
              "      <td>-73.962565</td>\n",
              "      <td>40.772647</td>\n",
              "      <td>1.0</td>\n",
              "      <td>5.036377</td>\n",
              "      <td>2009-08-24</td>\n",
              "      <td>8</td>\n",
              "      <td>2009</td>\n",
              "      <td>0</td>\n",
              "      <td>Monday</td>\n",
              "      <td>21:45:00</td>\n",
              "      <td>21</td>\n",
              "    </tr>\n",
              "    <tr>\n",
              "      <th>3</th>\n",
              "      <td>5.3</td>\n",
              "      <td>2009-06-26 08:22:21+00:00</td>\n",
              "      <td>-73.976124</td>\n",
              "      <td>40.790844</td>\n",
              "      <td>-73.965316</td>\n",
              "      <td>40.803349</td>\n",
              "      <td>3.0</td>\n",
              "      <td>1.661683</td>\n",
              "      <td>2009-06-26</td>\n",
              "      <td>6</td>\n",
              "      <td>2009</td>\n",
              "      <td>4</td>\n",
              "      <td>Friday</td>\n",
              "      <td>08:22:21</td>\n",
              "      <td>8</td>\n",
              "    </tr>\n",
              "    <tr>\n",
              "      <th>4</th>\n",
              "      <td>16.0</td>\n",
              "      <td>2014-08-28 17:47:00+00:00</td>\n",
              "      <td>-73.925023</td>\n",
              "      <td>40.744085</td>\n",
              "      <td>-73.973082</td>\n",
              "      <td>40.761247</td>\n",
              "      <td>5.0</td>\n",
              "      <td>4.475450</td>\n",
              "      <td>2014-08-28</td>\n",
              "      <td>8</td>\n",
              "      <td>2014</td>\n",
              "      <td>3</td>\n",
              "      <td>Thursday</td>\n",
              "      <td>17:47:00</td>\n",
              "      <td>17</td>\n",
              "    </tr>\n",
              "  </tbody>\n",
              "</table>\n",
              "</div>"
            ],
            "text/plain": [
              "   fare_amount           pickup_datetime  pickup_longitude  pickup_latitude   \n",
              "0          7.5 2015-05-07 19:52:06+00:00        -73.999817        40.738354  \\\n",
              "1          7.7 2009-07-17 20:04:56+00:00        -73.994355        40.728225   \n",
              "2         12.9 2009-08-24 21:45:00+00:00        -74.005043        40.740770   \n",
              "3          5.3 2009-06-26 08:22:21+00:00        -73.976124        40.790844   \n",
              "4         16.0 2014-08-28 17:47:00+00:00        -73.925023        40.744085   \n",
              "\n",
              "   dropoff_longitude  dropoff_latitude  passenger_count  distance_travelled   \n",
              "0         -73.999512         40.723217              1.0            1.683323  \\\n",
              "1         -73.994710         40.750325              1.0            2.457590   \n",
              "2         -73.962565         40.772647              1.0            5.036377   \n",
              "3         -73.965316         40.803349              3.0            1.661683   \n",
              "4         -73.973082         40.761247              5.0            4.475450   \n",
              "\n",
              "         date  month  year  day_of_the_week  day_name pickup_time  pickup_hour  \n",
              "0  2015-05-07      5  2015                3  Thursday    19:52:06           19  \n",
              "1  2009-07-17      7  2009                4    Friday    20:04:56           20  \n",
              "2  2009-08-24      8  2009                0    Monday    21:45:00           21  \n",
              "3  2009-06-26      6  2009                4    Friday    08:22:21            8  \n",
              "4  2014-08-28      8  2014                3  Thursday    17:47:00           17  "
            ]
          },
          "execution_count": 38,
          "metadata": {},
          "output_type": "execute_result"
        }
      ],
      "source": [
        "data.head()"
      ]
    },
    {
      "cell_type": "code",
      "execution_count": 39,
      "metadata": {
        "colab": {
          "base_uri": "https://localhost:8080/",
          "height": 394
        },
        "execution": {
          "iopub.execute_input": "2023-05-13T16:45:48.011468Z",
          "iopub.status.busy": "2023-05-13T16:45:48.011069Z",
          "iopub.status.idle": "2023-05-13T16:45:48.143351Z",
          "shell.execute_reply": "2023-05-13T16:45:48.142163Z",
          "shell.execute_reply.started": "2023-05-13T16:45:48.011432Z"
        },
        "id": "Hhx6ffxrDspD",
        "outputId": "c0ced251-37c1-4831-d333-38320c233e77",
        "scrolled": true,
        "trusted": true
      },
      "outputs": [
        {
          "data": {
            "text/html": [
              "<div>\n",
              "<style scoped>\n",
              "    .dataframe tbody tr th:only-of-type {\n",
              "        vertical-align: middle;\n",
              "    }\n",
              "\n",
              "    .dataframe tbody tr th {\n",
              "        vertical-align: top;\n",
              "    }\n",
              "\n",
              "    .dataframe thead th {\n",
              "        text-align: right;\n",
              "    }\n",
              "</style>\n",
              "<table border=\"1\" class=\"dataframe\">\n",
              "  <thead>\n",
              "    <tr style=\"text-align: right;\">\n",
              "      <th></th>\n",
              "      <th>count</th>\n",
              "      <th>mean</th>\n",
              "      <th>std</th>\n",
              "      <th>min</th>\n",
              "      <th>25%</th>\n",
              "      <th>50%</th>\n",
              "      <th>75%</th>\n",
              "      <th>max</th>\n",
              "    </tr>\n",
              "  </thead>\n",
              "  <tbody>\n",
              "    <tr>\n",
              "      <th>fare_amount</th>\n",
              "      <td>189061.0</td>\n",
              "      <td>11.336739</td>\n",
              "      <td>9.730745</td>\n",
              "      <td>2.500000</td>\n",
              "      <td>6.000000</td>\n",
              "      <td>8.500000</td>\n",
              "      <td>12.500000</td>\n",
              "      <td>499.000000</td>\n",
              "    </tr>\n",
              "    <tr>\n",
              "      <th>pickup_longitude</th>\n",
              "      <td>189061.0</td>\n",
              "      <td>-73.916225</td>\n",
              "      <td>2.560946</td>\n",
              "      <td>-75.419276</td>\n",
              "      <td>-73.992274</td>\n",
              "      <td>-73.982133</td>\n",
              "      <td>-73.968465</td>\n",
              "      <td>40.808425</td>\n",
              "    </tr>\n",
              "    <tr>\n",
              "      <th>pickup_latitude</th>\n",
              "      <td>189061.0</td>\n",
              "      <td>40.696089</td>\n",
              "      <td>2.634751</td>\n",
              "      <td>-74.015515</td>\n",
              "      <td>40.736440</td>\n",
              "      <td>40.753273</td>\n",
              "      <td>40.767532</td>\n",
              "      <td>401.066667</td>\n",
              "    </tr>\n",
              "    <tr>\n",
              "      <th>dropoff_longitude</th>\n",
              "      <td>189061.0</td>\n",
              "      <td>-73.915258</td>\n",
              "      <td>2.561027</td>\n",
              "      <td>-75.423067</td>\n",
              "      <td>-73.991594</td>\n",
              "      <td>-73.980564</td>\n",
              "      <td>-73.965513</td>\n",
              "      <td>40.831932</td>\n",
              "    </tr>\n",
              "    <tr>\n",
              "      <th>dropoff_latitude</th>\n",
              "      <td>189061.0</td>\n",
              "      <td>40.694481</td>\n",
              "      <td>2.501323</td>\n",
              "      <td>-74.015750</td>\n",
              "      <td>40.735345</td>\n",
              "      <td>40.753738</td>\n",
              "      <td>40.768327</td>\n",
              "      <td>45.031598</td>\n",
              "    </tr>\n",
              "    <tr>\n",
              "      <th>passenger_count</th>\n",
              "      <td>189061.0</td>\n",
              "      <td>1.595115</td>\n",
              "      <td>1.150926</td>\n",
              "      <td>1.000000</td>\n",
              "      <td>1.000000</td>\n",
              "      <td>1.000000</td>\n",
              "      <td>2.000000</td>\n",
              "      <td>5.000000</td>\n",
              "    </tr>\n",
              "    <tr>\n",
              "      <th>distance_travelled</th>\n",
              "      <td>189061.0</td>\n",
              "      <td>3.377859</td>\n",
              "      <td>3.984585</td>\n",
              "      <td>0.000084</td>\n",
              "      <td>1.279954</td>\n",
              "      <td>2.181325</td>\n",
              "      <td>3.938054</td>\n",
              "      <td>129.610094</td>\n",
              "    </tr>\n",
              "    <tr>\n",
              "      <th>month</th>\n",
              "      <td>189061.0</td>\n",
              "      <td>6.282337</td>\n",
              "      <td>3.439349</td>\n",
              "      <td>1.000000</td>\n",
              "      <td>3.000000</td>\n",
              "      <td>6.000000</td>\n",
              "      <td>9.000000</td>\n",
              "      <td>12.000000</td>\n",
              "    </tr>\n",
              "    <tr>\n",
              "      <th>year</th>\n",
              "      <td>189061.0</td>\n",
              "      <td>2011.719302</td>\n",
              "      <td>1.862527</td>\n",
              "      <td>2009.000000</td>\n",
              "      <td>2010.000000</td>\n",
              "      <td>2012.000000</td>\n",
              "      <td>2013.000000</td>\n",
              "      <td>2015.000000</td>\n",
              "    </tr>\n",
              "    <tr>\n",
              "      <th>day_of_the_week</th>\n",
              "      <td>189061.0</td>\n",
              "      <td>3.049095</td>\n",
              "      <td>1.946679</td>\n",
              "      <td>0.000000</td>\n",
              "      <td>1.000000</td>\n",
              "      <td>3.000000</td>\n",
              "      <td>5.000000</td>\n",
              "      <td>6.000000</td>\n",
              "    </tr>\n",
              "    <tr>\n",
              "      <th>pickup_hour</th>\n",
              "      <td>189061.0</td>\n",
              "      <td>13.489234</td>\n",
              "      <td>6.518660</td>\n",
              "      <td>0.000000</td>\n",
              "      <td>9.000000</td>\n",
              "      <td>14.000000</td>\n",
              "      <td>19.000000</td>\n",
              "      <td>23.000000</td>\n",
              "    </tr>\n",
              "  </tbody>\n",
              "</table>\n",
              "</div>"
            ],
            "text/plain": [
              "                       count         mean       std          min          25%   \n",
              "fare_amount         189061.0    11.336739  9.730745     2.500000     6.000000  \\\n",
              "pickup_longitude    189061.0   -73.916225  2.560946   -75.419276   -73.992274   \n",
              "pickup_latitude     189061.0    40.696089  2.634751   -74.015515    40.736440   \n",
              "dropoff_longitude   189061.0   -73.915258  2.561027   -75.423067   -73.991594   \n",
              "dropoff_latitude    189061.0    40.694481  2.501323   -74.015750    40.735345   \n",
              "passenger_count     189061.0     1.595115  1.150926     1.000000     1.000000   \n",
              "distance_travelled  189061.0     3.377859  3.984585     0.000084     1.279954   \n",
              "month               189061.0     6.282337  3.439349     1.000000     3.000000   \n",
              "year                189061.0  2011.719302  1.862527  2009.000000  2010.000000   \n",
              "day_of_the_week     189061.0     3.049095  1.946679     0.000000     1.000000   \n",
              "pickup_hour         189061.0    13.489234  6.518660     0.000000     9.000000   \n",
              "\n",
              "                            50%          75%          max  \n",
              "fare_amount            8.500000    12.500000   499.000000  \n",
              "pickup_longitude     -73.982133   -73.968465    40.808425  \n",
              "pickup_latitude       40.753273    40.767532   401.066667  \n",
              "dropoff_longitude    -73.980564   -73.965513    40.831932  \n",
              "dropoff_latitude      40.753738    40.768327    45.031598  \n",
              "passenger_count        1.000000     2.000000     5.000000  \n",
              "distance_travelled     2.181325     3.938054   129.610094  \n",
              "month                  6.000000     9.000000    12.000000  \n",
              "year                2012.000000  2013.000000  2015.000000  \n",
              "day_of_the_week        3.000000     5.000000     6.000000  \n",
              "pickup_hour           14.000000    19.000000    23.000000  "
            ]
          },
          "execution_count": 39,
          "metadata": {},
          "output_type": "execute_result"
        }
      ],
      "source": [
        "data.describe().T"
      ]
    },
    {
      "cell_type": "code",
      "execution_count": 40,
      "metadata": {
        "execution": {
          "iopub.execute_input": "2023-05-13T16:45:48.145704Z",
          "iopub.status.busy": "2023-05-13T16:45:48.145233Z",
          "iopub.status.idle": "2023-05-13T16:45:48.156220Z",
          "shell.execute_reply": "2023-05-13T16:45:48.154946Z",
          "shell.execute_reply.started": "2023-05-13T16:45:48.145658Z"
        },
        "id": "tTrZHx8KDspD",
        "trusted": true
      },
      "outputs": [],
      "source": [
        "# Dropping the columns 'pickup datetime' and 'pickup hour' as we have extracted relvant pieces of information\n",
        "# from these columns and do not need these columns for our analysis now. Also, 'date' and 'day_name', month and yuear\n",
        "# as well as pickup and dropoff coordinates are not required as we have the required data extracted from them\n",
        "\n",
        "data = data.drop(['pickup_datetime','pickup_time', 'date', 'pickup_longitude', 'pickup_latitude',\n",
        "                  'dropoff_longitude', 'dropoff_latitude', 'day_name'],axis=1)"
      ]
    },
    {
      "cell_type": "code",
      "execution_count": 92,
      "metadata": {},
      "outputs": [
        {
          "data": {
            "text/plain": [
              "Index(['fare_amount', 'passenger_count', 'distance_travelled', 'month', 'year',\n",
              "       'day_of_the_week', 'pickup_hour'],\n",
              "      dtype='object')"
            ]
          },
          "execution_count": 92,
          "metadata": {},
          "output_type": "execute_result"
        }
      ],
      "source": [
        "data.columns"
      ]
    },
    {
      "cell_type": "code",
      "execution_count": 41,
      "metadata": {
        "colab": {
          "base_uri": "https://localhost:8080/"
        },
        "execution": {
          "iopub.execute_input": "2023-05-13T16:45:48.158018Z",
          "iopub.status.busy": "2023-05-13T16:45:48.157529Z",
          "iopub.status.idle": "2023-05-13T16:45:48.177278Z",
          "shell.execute_reply": "2023-05-13T16:45:48.175953Z",
          "shell.execute_reply.started": "2023-05-13T16:45:48.157972Z"
        },
        "id": "T7_aoe1kDspD",
        "outputId": "82c42923-9660-41e1-b62d-207c683805c8",
        "trusted": true
      },
      "outputs": [
        {
          "name": "stdout",
          "output_type": "stream",
          "text": [
            "<class 'pandas.core.frame.DataFrame'>\n",
            "Index: 189061 entries, 0 to 199999\n",
            "Data columns (total 7 columns):\n",
            " #   Column              Non-Null Count   Dtype  \n",
            "---  ------              --------------   -----  \n",
            " 0   fare_amount         189061 non-null  float64\n",
            " 1   passenger_count     189061 non-null  float64\n",
            " 2   distance_travelled  189061 non-null  float64\n",
            " 3   month               189061 non-null  int32  \n",
            " 4   year                189061 non-null  int32  \n",
            " 5   day_of_the_week     189061 non-null  int32  \n",
            " 6   pickup_hour         189061 non-null  int32  \n",
            "dtypes: float64(3), int32(4)\n",
            "memory usage: 8.7 MB\n"
          ]
        }
      ],
      "source": [
        "data.info()"
      ]
    },
    {
      "cell_type": "markdown",
      "metadata": {
        "id": "5e9hI4iRDspI"
      },
      "source": [
        "# Numerical Features - Univariate Analysis"
      ]
    },
    {
      "cell_type": "markdown",
      "metadata": {
        "id": "HjfqW5REDspI"
      },
      "source": [
        "## Boxplot & Histogram"
      ]
    },
    {
      "cell_type": "markdown",
      "metadata": {
        "id": "a_LDhgzIDspJ"
      },
      "source": [
        "### Distance"
      ]
    },
    {
      "cell_type": "code",
      "execution_count": 42,
      "metadata": {
        "colab": {
          "base_uri": "https://localhost:8080/",
          "height": 468
        },
        "execution": {
          "iopub.execute_input": "2023-05-13T16:45:48.179788Z",
          "iopub.status.busy": "2023-05-13T16:45:48.178866Z",
          "iopub.status.idle": "2023-05-13T16:45:48.446235Z",
          "shell.execute_reply": "2023-05-13T16:45:48.444823Z",
          "shell.execute_reply.started": "2023-05-13T16:45:48.179746Z"
        },
        "id": "EGDmMuiRDspJ",
        "outputId": "3a5d4adc-2083-4d6f-d027-f51cc7f5b1f2",
        "trusted": true
      },
      "outputs": [
        {
          "data": {
            "text/plain": [
              "<Axes: xlabel='distance_travelled'>"
            ]
          },
          "execution_count": 42,
          "metadata": {},
          "output_type": "execute_result"
        },
        {
          "data": {
            "image/png": "[encoded data removed]",
            "text/plain": [
              "<Figure size 640x480 with 1 Axes>"
            ]
          },
          "metadata": {},
          "output_type": "display_data"
        }
      ],
      "source": [
        "sns.boxplot(x=data['distance_travelled'])"
      ]
    },
    {
      "cell_type": "code",
      "execution_count": 43,
      "metadata": {
        "colab": {
          "base_uri": "https://localhost:8080/",
          "height": 448
        },
        "execution": {
          "iopub.execute_input": "2023-05-13T16:45:48.448262Z",
          "iopub.status.busy": "2023-05-13T16:45:48.447860Z",
          "iopub.status.idle": "2023-05-13T16:45:48.735366Z",
          "shell.execute_reply": "2023-05-13T16:45:48.734073Z",
          "shell.execute_reply.started": "2023-05-13T16:45:48.448225Z"
        },
        "id": "ZHhSu5boDspJ",
        "outputId": "44d069ea-0eeb-47db-c888-14c64f9a20a0",
        "trusted": true
      },
      "outputs": [
        {
          "data": {
            "text/plain": [
              "<matplotlib.lines.Line2D at 0x7fbe29409910>"
            ]
          },
          "execution_count": 43,
          "metadata": {},
          "output_type": "execute_result"
        },
        {
          "data": {
            "image/png": "[encoded data removed]",
            "text/plain": [
              "<Figure size 640x480 with 1 Axes>"
            ]
          },
          "metadata": {},
          "output_type": "display_data"
        }
      ],
      "source": [
        "import matplotlib.pyplot as plt\n",
        "hist = plt.hist(x=data['distance_travelled'], density = True)\n",
        "# Draw a vertical line in the histogram to visualize mean value of the numerical feature (NaNs will be ignored when calculating the mean)\n",
        "plt.axvline(data['distance_travelled'].mean(), color = 'red', linestyle='--')\n",
        "# Draw another vertical line in the histogram to visualize median value of the numerical feature (NaNs will be ignored when calculating the median)\n",
        "plt.axvline(data['distance_travelled'].median(), color = 'black', linestyle='-')"
      ]
    },
    {
      "cell_type": "markdown",
      "metadata": {
        "id": "lCMe_SKFDspJ"
      },
      "source": [
        "Observations:\n",
        "- Negatively Skewed\n",
        "- Outliers on the left end\n",
        "- Mean and Median are close"
      ]
    },
    {
      "cell_type": "markdown",
      "metadata": {
        "id": "0LrSeS2hDspJ"
      },
      "source": [
        "# Categorical Features - Univariate Analysis"
      ]
    },
    {
      "cell_type": "markdown",
      "metadata": {
        "id": "If41-NUfDspJ"
      },
      "source": [
        "### Passenger Count"
      ]
    },
    {
      "cell_type": "code",
      "execution_count": 44,
      "metadata": {
        "colab": {
          "base_uri": "https://localhost:8080/",
          "height": 540
        },
        "execution": {
          "iopub.execute_input": "2023-05-13T16:45:48.737192Z",
          "iopub.status.busy": "2023-05-13T16:45:48.736827Z",
          "iopub.status.idle": "2023-05-13T16:45:48.982763Z",
          "shell.execute_reply": "2023-05-13T16:45:48.981690Z",
          "shell.execute_reply.started": "2023-05-13T16:45:48.737158Z"
        },
        "id": "URMHAltEDspJ",
        "outputId": "644e30c2-2ecf-463f-dacb-fcdf0070d492",
        "scrolled": true,
        "trusted": true
      },
      "outputs": [
        {
          "data": {
            "text/plain": [
              "(array([0, 1, 2, 3, 4]),\n",
              " [Text(0, 0, '1.0'),\n",
              "  Text(1, 0, '2.0'),\n",
              "  Text(2, 0, '5.0'),\n",
              "  Text(3, 0, '3.0'),\n",
              "  Text(4, 0, '4.0')])"
            ]
          },
          "execution_count": 44,
          "metadata": {},
          "output_type": "execute_result"
        },
        {
          "data": {
            "image/png": "[encoded data removed]",
            "text/plain": [
              "<Figure size 640x480 with 1 Axes>"
            ]
          },
          "metadata": {},
          "output_type": "display_data"
        }
      ],
      "source": [
        "data['passenger_count'].value_counts(normalize = True).plot.bar()\n",
        "plt.xticks(rotation = 0)"
      ]
    },
    {
      "cell_type": "markdown",
      "metadata": {
        "id": "OSVpTJ3uDspK"
      },
      "source": [
        "Observation:\n",
        "- Almost 70% of trips had only 1 passanger"
      ]
    },
    {
      "cell_type": "markdown",
      "metadata": {
        "id": "1G1VBzIaDspK"
      },
      "source": [
        "### Day of the week"
      ]
    },
    {
      "cell_type": "code",
      "execution_count": 45,
      "metadata": {
        "colab": {
          "base_uri": "https://localhost:8080/",
          "height": 577
        },
        "execution": {
          "iopub.execute_input": "2023-05-13T16:45:48.985664Z",
          "iopub.status.busy": "2023-05-13T16:45:48.984337Z",
          "iopub.status.idle": "2023-05-13T16:45:49.234675Z",
          "shell.execute_reply": "2023-05-13T16:45:49.233547Z",
          "shell.execute_reply.started": "2023-05-13T16:45:48.985592Z"
        },
        "id": "-z7PxQKUDspK",
        "outputId": "f0651e86-fc00-435f-e32e-fb73cf6af730",
        "scrolled": true,
        "trusted": true
      },
      "outputs": [
        {
          "data": {
            "text/plain": [
              "(array([0, 1, 2, 3, 4, 5, 6]),\n",
              " [Text(0, 0, '4'),\n",
              "  Text(1, 0, '5'),\n",
              "  Text(2, 0, '3'),\n",
              "  Text(3, 0, '2'),\n",
              "  Text(4, 0, '1'),\n",
              "  Text(5, 0, '6'),\n",
              "  Text(6, 0, '0')])"
            ]
          },
          "execution_count": 45,
          "metadata": {},
          "output_type": "execute_result"
        },
        {
          "data": {
            "image/png": "[encoded data removed]",
            "text/plain": [
              "<Figure size 640x480 with 1 Axes>"
            ]
          },
          "metadata": {},
          "output_type": "display_data"
        }
      ],
      "source": [
        "data['day_of_the_week'].value_counts(normalize = True).plot.bar()\n",
        "plt.xticks(rotation = 0)"
      ]
    },
    {
      "cell_type": "markdown",
      "metadata": {
        "id": "z-cr8o9yDspK"
      },
      "source": [
        "Observation:\n",
        "- As expected, Friday (weekend eve) and Saturday had the highest number of trips"
      ]
    },
    {
      "cell_type": "markdown",
      "metadata": {
        "id": "8vFswmlQDspK"
      },
      "source": [
        "### Pickup Time"
      ]
    },
    {
      "cell_type": "code",
      "execution_count": 46,
      "metadata": {
        "colab": {
          "base_uri": "https://localhost:8080/",
          "height": 907
        },
        "execution": {
          "iopub.execute_input": "2023-05-13T16:45:49.236663Z",
          "iopub.status.busy": "2023-05-13T16:45:49.236264Z",
          "iopub.status.idle": "2023-05-13T16:45:49.600144Z",
          "shell.execute_reply": "2023-05-13T16:45:49.599217Z",
          "shell.execute_reply.started": "2023-05-13T16:45:49.236625Z"
        },
        "id": "c-jVMrIwDspK",
        "outputId": "cfa070c8-4a9a-49a9-eb98-f4d65cf98283",
        "scrolled": true,
        "trusted": true
      },
      "outputs": [
        {
          "data": {
            "text/plain": [
              "(array([ 0,  1,  2,  3,  4,  5,  6,  7,  8,  9, 10, 11, 12, 13, 14, 15, 16,\n",
              "        17, 18, 19, 20, 21, 22, 23]),\n",
              " [Text(0, 0, '19'),\n",
              "  Text(1, 0, '18'),\n",
              "  Text(2, 0, '20'),\n",
              "  Text(3, 0, '21'),\n",
              "  Text(4, 0, '22'),\n",
              "  Text(5, 0, '13'),\n",
              "  Text(6, 0, '12'),\n",
              "  Text(7, 0, '23'),\n",
              "  Text(8, 0, '14'),\n",
              "  Text(9, 0, '17'),\n",
              "  Text(10, 0, '15'),\n",
              "  Text(11, 0, '11'),\n",
              "  Text(12, 0, '9'),\n",
              "  Text(13, 0, '8'),\n",
              "  Text(14, 0, '10'),\n",
              "  Text(15, 0, '16'),\n",
              "  Text(16, 0, '0'),\n",
              "  Text(17, 0, '7'),\n",
              "  Text(18, 0, '1'),\n",
              "  Text(19, 0, '2'),\n",
              "  Text(20, 0, '6'),\n",
              "  Text(21, 0, '3'),\n",
              "  Text(22, 0, '4'),\n",
              "  Text(23, 0, '5')])"
            ]
          },
          "execution_count": 46,
          "metadata": {},
          "output_type": "execute_result"
        },
        {
          "data": {
            "image/png": "[encoded data removed]",
            "text/plain": [
              "<Figure size 640x480 with 1 Axes>"
            ]
          },
          "metadata": {},
          "output_type": "display_data"
        }
      ],
      "source": [
        "data['pickup_hour'].value_counts(normalize = True).plot.bar()\n",
        "plt.xticks(rotation = 0)"
      ]
    },
    {
      "cell_type": "markdown",
      "metadata": {
        "id": "Y4Czy0vSDspK"
      },
      "source": [
        "Observation:\n",
        "- As expected, the number of trips are low during 1am - 5am, and peak between 7pm - 9pm"
      ]
    },
    {
      "cell_type": "markdown",
      "metadata": {
        "id": "yb3AP90-DspL"
      },
      "source": [
        "We can clearly see that during weekdays, peak hours are during the day while on weekends, peak hours are late in the night"
      ]
    },
    {
      "cell_type": "markdown",
      "metadata": {
        "id": "sRtRcSdaDspL"
      },
      "source": [
        "# Bivariate / Multivariate Analysis"
      ]
    },
    {
      "cell_type": "code",
      "execution_count": 47,
      "metadata": {
        "colab": {
          "base_uri": "https://localhost:8080/"
        },
        "execution": {
          "iopub.execute_input": "2023-05-13T16:45:49.602345Z",
          "iopub.status.busy": "2023-05-13T16:45:49.601364Z",
          "iopub.status.idle": "2023-05-13T16:45:50.222222Z",
          "shell.execute_reply": "2023-05-13T16:45:50.221150Z",
          "shell.execute_reply.started": "2023-05-13T16:45:49.602301Z"
        },
        "id": "iOkxGI2LDspL",
        "outputId": "6a97d77d-910c-4074-8b7d-74acb8ac2b86",
        "trusted": true
      },
      "outputs": [
        {
          "name": "stdout",
          "output_type": "stream",
          "text": [
            "Collecting geopandas\n",
            "  Downloading geopandas-0.13.0-py3-none-any.whl (1.1 MB)\n",
            "\u001b[2K     \u001b[90m━━━━━━━━━━━━━━━━━━━━━━━━━━━━━━━━━━━━━━━━\u001b[0m \u001b[32m1.1/1.1 MB\u001b[0m \u001b[31m346.7 kB/s\u001b[0m eta \u001b[36m0:00:00\u001b[0m00:01\u001b[0m00:01\u001b[0m\n",
            "\u001b[?25hCollecting fiona>=1.8.19\n",
            "  Downloading Fiona-1.9.3-cp311-cp311-manylinux_2_17_x86_64.manylinux2014_x86_64.whl (16.0 MB)\n",
            "\u001b[2K     \u001b[90m━━━━━━━━━━━━━━━━━━━━━━━━━━━━━━━━━━━━━━━\u001b[0m \u001b[32m16.0/16.0 MB\u001b[0m \u001b[31m256.9 kB/s\u001b[0m eta \u001b[36m0:00:00\u001b[0m00:01\u001b[0m00:02\u001b[0m\n",
            "\u001b[?25hRequirement already satisfied: packaging in ./venv/lib/python3.11/site-packages (from geopandas) (23.1)\n",
            "Requirement already satisfied: pandas>=1.1.0 in ./venv/lib64/python3.11/site-packages (from geopandas) (2.0.1)\n",
            "Collecting pyproj>=3.0.1\n",
            "  Downloading pyproj-3.5.0-cp311-cp311-manylinux_2_17_x86_64.manylinux2014_x86_64.whl (7.8 MB)\n",
            "\u001b[2K     \u001b[90m━━━━━━━━━━━━━━━━━━━━━━━━━━━━━━━━━━━━━━━━\u001b[0m \u001b[32m7.8/7.8 MB\u001b[0m \u001b[31m1.1 MB/s\u001b[0m eta \u001b[36m0:00:00\u001b[0m00:01\u001b[0m00:01\u001b[0m0m\n",
            "\u001b[?25hCollecting shapely>=1.7.1\n",
            "  Downloading shapely-2.0.1-cp311-cp311-manylinux_2_17_x86_64.manylinux2014_x86_64.whl (2.3 MB)\n",
            "\u001b[2K     \u001b[90m━━━━━━━━━━━━━━━━━━━━━━━━━━━━━━━━━━━━━━━━\u001b[0m \u001b[32m2.3/2.3 MB\u001b[0m \u001b[31m1.2 MB/s\u001b[0m eta \u001b[36m0:00:00\u001b[0m00:01\u001b[0m00:01\u001b[0m\n",
            "\u001b[?25hCollecting attrs>=19.2.0\n",
            "  Downloading attrs-23.1.0-py3-none-any.whl (61 kB)\n",
            "\u001b[2K     \u001b[90m━━━━━━━━━━━━━━━━━━━━━━━━━━━━━━━━━━━━━━━━\u001b[0m \u001b[32m61.2/61.2 kB\u001b[0m \u001b[31m1.2 MB/s\u001b[0m eta \u001b[36m0:00:00\u001b[0ma \u001b[36m0:00:01\u001b[0m\n",
            "\u001b[?25hCollecting certifi\n",
            "  Downloading certifi-2023.5.7-py3-none-any.whl (156 kB)\n",
            "\u001b[2K     \u001b[90m━━━━━━━━━━━━━━━━━━━━━━━━━━━━━━━━━━━━━\u001b[0m \u001b[32m157.0/157.0 kB\u001b[0m \u001b[31m158.3 kB/s\u001b[0m eta \u001b[36m0:00:00\u001b[0ma \u001b[36m0:00:01\u001b[0m\n",
            "\u001b[?25hCollecting click~=8.0\n",
            "  Downloading click-8.1.3-py3-none-any.whl (96 kB)\n",
            "\u001b[2K     \u001b[90m━━━━━━━━━━━━━━━━━━━━━━━━━━━━━━━━━━━━━━━\u001b[0m \u001b[32m96.6/96.6 kB\u001b[0m \u001b[31m491.5 kB/s\u001b[0m eta \u001b[36m0:00:00\u001b[0ma \u001b[36m0:00:01\u001b[0m\n",
            "\u001b[?25hCollecting click-plugins>=1.0\n",
            "  Downloading click_plugins-1.1.1-py2.py3-none-any.whl (7.5 kB)\n",
            "Collecting cligj>=0.5\n",
            "  Downloading cligj-0.7.2-py3-none-any.whl (7.1 kB)\n",
            "Collecting munch>=2.3.2\n",
            "  Downloading munch-2.5.0-py2.py3-none-any.whl (10 kB)\n",
            "Requirement already satisfied: python-dateutil>=2.8.2 in ./venv/lib/python3.11/site-packages (from pandas>=1.1.0->geopandas) (2.8.2)\n",
            "Requirement already satisfied: pytz>=2020.1 in ./venv/lib/python3.11/site-packages (from pandas>=1.1.0->geopandas) (2023.3)\n",
            "Requirement already satisfied: tzdata>=2022.1 in ./venv/lib/python3.11/site-packages (from pandas>=1.1.0->geopandas) (2023.3)\n",
            "Requirement already satisfied: numpy>=1.21.0 in ./venv/lib64/python3.11/site-packages (from pandas>=1.1.0->geopandas) (1.24.3)\n",
            "Requirement already satisfied: six in ./venv/lib/python3.11/site-packages (from munch>=2.3.2->fiona>=1.8.19->geopandas) (1.16.0)\n",
            "Installing collected packages: shapely, munch, click, certifi, attrs, pyproj, cligj, click-plugins, fiona, geopandas\n",
            "Successfully installed attrs-23.1.0 certifi-2023.5.7 click-8.1.3 click-plugins-1.1.1 cligj-0.7.2 fiona-1.9.3 geopandas-0.13.0 munch-2.5.0 pyproj-3.5.0 shapely-2.0.1\n",
            "\n",
            "\u001b[1m[\u001b[0m\u001b[34;49mnotice\u001b[0m\u001b[1;39;49m]\u001b[0m\u001b[39;49m A new release of pip available: \u001b[0m\u001b[31;49m22.3.1\u001b[0m\u001b[39;49m -> \u001b[0m\u001b[32;49m23.1.2\u001b[0m\n",
            "\u001b[1m[\u001b[0m\u001b[34;49mnotice\u001b[0m\u001b[1;39;49m]\u001b[0m\u001b[39;49m To update, run: \u001b[0m\u001b[32;49mpip install --upgrade pip\u001b[0m\n"
          ]
        }
      ],
      "source": [
        "!pip install geopandas\n",
        "import geopandas as gpd"
      ]
    },
    {
      "cell_type": "code",
      "execution_count": 48,
      "metadata": {
        "colab": {
          "base_uri": "https://localhost:8080/",
          "height": 430
        },
        "execution": {
          "iopub.execute_input": "2023-05-13T16:45:50.234209Z",
          "iopub.status.busy": "2023-05-13T16:45:50.233731Z",
          "iopub.status.idle": "2023-05-13T16:45:50.778428Z",
          "shell.execute_reply": "2023-05-13T16:45:50.777405Z",
          "shell.execute_reply.started": "2023-05-13T16:45:50.234171Z"
        },
        "id": "cmQe2gbVDspL",
        "outputId": "963b107d-757f-4580-a282-984a0428b498",
        "trusted": true
      },
      "outputs": [
        {
          "data": {
            "image/png": "[encoded data removed]",
            "text/plain": [
              "<Figure size 640x480 with 1 Axes>"
            ]
          },
          "metadata": {},
          "output_type": "display_data"
        }
      ],
      "source": [
        "#Scatte plot of distance vs fare amount\n",
        "plt.scatter(x = data.distance_travelled, y = data.fare_amount)\n",
        "\n",
        "# Show the plot\n",
        "plt.show()"
      ]
    },
    {
      "cell_type": "markdown",
      "metadata": {
        "id": "99wTmgMBDspL"
      },
      "source": [
        "Generally, as distance increases, the fare amount also increases with a few sporadic inconsistencies"
      ]
    },
    {
      "cell_type": "code",
      "execution_count": 49,
      "metadata": {
        "colab": {
          "base_uri": "https://localhost:8080/",
          "height": 430
        },
        "execution": {
          "iopub.execute_input": "2023-05-13T16:45:50.780887Z",
          "iopub.status.busy": "2023-05-13T16:45:50.780150Z",
          "iopub.status.idle": "2023-05-13T16:45:51.321151Z",
          "shell.execute_reply": "2023-05-13T16:45:51.319886Z",
          "shell.execute_reply.started": "2023-05-13T16:45:50.780846Z"
        },
        "id": "1Bl9qKVcDspL",
        "outputId": "097ec1f3-56f9-4be1-d92d-056b3f7c0374",
        "trusted": true
      },
      "outputs": [
        {
          "data": {
            "image/png": "[encoded data removed]",
            "text/plain": [
              "<Figure size 640x480 with 1 Axes>"
            ]
          },
          "metadata": {},
          "output_type": "display_data"
        }
      ],
      "source": [
        "#Scatte plot of day of the week vs fare amount\n",
        "plt.scatter(x = data.day_of_the_week, y = data.fare_amount)\n",
        "\n",
        "# Show the plot\n",
        "plt.show()"
      ]
    },
    {
      "cell_type": "markdown",
      "metadata": {
        "id": "TDATD9Z4DspL"
      },
      "source": [
        "Generally speaking, weekend fares are higher than weekday fares. This could be due to distance travelled or due to peak hours"
      ]
    },
    {
      "cell_type": "code",
      "execution_count": 50,
      "metadata": {
        "colab": {
          "base_uri": "https://localhost:8080/",
          "height": 430
        },
        "execution": {
          "iopub.execute_input": "2023-05-13T16:45:51.323002Z",
          "iopub.status.busy": "2023-05-13T16:45:51.322630Z",
          "iopub.status.idle": "2023-05-13T16:45:51.866496Z",
          "shell.execute_reply": "2023-05-13T16:45:51.864778Z",
          "shell.execute_reply.started": "2023-05-13T16:45:51.322968Z"
        },
        "id": "t4rPsLxYDspM",
        "outputId": "80eb64fd-7aa2-45eb-b48c-cac87634d9e2",
        "trusted": true
      },
      "outputs": [
        {
          "data": {
            "image/png": "[encoded data removed]",
            "text/plain": [
              "<Figure size 640x480 with 1 Axes>"
            ]
          },
          "metadata": {},
          "output_type": "display_data"
        }
      ],
      "source": [
        "#Scatte plot of day of the week vs distance to see if there is any relationship between them\n",
        "plt.scatter(x = data.day_of_the_week, y = data.distance_travelled)\n",
        "\n",
        "# Show the plot\n",
        "plt.show()"
      ]
    },
    {
      "cell_type": "markdown",
      "metadata": {
        "id": "kW_hLTsCDspM"
      },
      "source": [
        "We see that there isn;t much of a relationship between distance travelled vs fay of the week - thus, it is appears that fare amount being higher on weekends has a high likelihood of being linked to peak hours / wait time due to higher traffic.\n",
        "\n",
        "Unfortunately, we do not have the dropoff time for each ride to be able to ascertain the time of each trip and demonstrate if we can see a relationship between fare and time travelled"
      ]
    },
    {
      "cell_type": "code",
      "execution_count": 51,
      "metadata": {
        "colab": {
          "base_uri": "https://localhost:8080/",
          "height": 430
        },
        "execution": {
          "iopub.execute_input": "2023-05-13T16:45:51.869171Z",
          "iopub.status.busy": "2023-05-13T16:45:51.868096Z",
          "iopub.status.idle": "2023-05-13T16:45:52.401265Z",
          "shell.execute_reply": "2023-05-13T16:45:52.400066Z",
          "shell.execute_reply.started": "2023-05-13T16:45:51.869128Z"
        },
        "id": "oFR-b3-YDspM",
        "outputId": "9c28b86a-85a5-415f-a2f6-8861c0c5dee4",
        "trusted": true
      },
      "outputs": [
        {
          "data": {
            "image/png": "[encoded data removed]",
            "text/plain": [
              "<Figure size 640x480 with 1 Axes>"
            ]
          },
          "metadata": {},
          "output_type": "display_data"
        }
      ],
      "source": [
        "#Scatte plot of pickup time vs fare amount\n",
        "plt.scatter(x = data.pickup_hour, y = data.fare_amount)\n",
        "\n",
        "# Show the plot\n",
        "plt.show()"
      ]
    },
    {
      "cell_type": "markdown",
      "metadata": {
        "id": "m5GGz2uwDspM"
      },
      "source": [
        "We do see some pickup times having a greater % of higher fares as compared to others - however, it is difficult to draw a concluding relationship"
      ]
    },
    {
      "cell_type": "code",
      "execution_count": 52,
      "metadata": {
        "colab": {
          "base_uri": "https://localhost:8080/",
          "height": 430
        },
        "execution": {
          "iopub.execute_input": "2023-05-13T16:45:52.404471Z",
          "iopub.status.busy": "2023-05-13T16:45:52.403623Z",
          "iopub.status.idle": "2023-05-13T16:45:52.944769Z",
          "shell.execute_reply": "2023-05-13T16:45:52.943433Z",
          "shell.execute_reply.started": "2023-05-13T16:45:52.404414Z"
        },
        "id": "TZja_fAYDspM",
        "outputId": "63030c15-81b1-486f-c8b6-bcbb25ddb1b0",
        "trusted": true
      },
      "outputs": [
        {
          "data": {
            "image/png": "[encoded data removed]",
            "text/plain": [
              "<Figure size 640x480 with 1 Axes>"
            ]
          },
          "metadata": {},
          "output_type": "display_data"
        }
      ],
      "source": [
        "#Scatte plot of pickup time vs distance\n",
        "plt.scatter(x = data.pickup_hour, y = data.distance_travelled)\n",
        "\n",
        "# Show the plot\n",
        "plt.show()"
      ]
    },
    {
      "cell_type": "markdown",
      "metadata": {
        "id": "aI5U7Hm9DspN"
      },
      "source": [
        "Some pickup hours have a greater concentration of trips where a high distance was travelled as compared to others"
      ]
    },
    {
      "cell_type": "markdown",
      "metadata": {
        "id": "yIw3_PmfDspN"
      },
      "source": [
        "### Data Preparatrion"
      ]
    },
    {
      "cell_type": "markdown",
      "metadata": {
        "id": "WTYGHLRYDspN"
      },
      "source": [
        "### Feature Scaling"
      ]
    },
    {
      "cell_type": "markdown",
      "metadata": {
        "id": "H9fHOP0xDspN"
      },
      "source": [
        "Feature Scaling is required because of two reasons:\n",
        "1. The data points are far from each other. This means that in some columns, the distance between data points is a lot\n",
        "2. Some of the features have a unit while other features are unitless. Thereofre, it is important to make all features unitless"
      ]
    },
    {
      "cell_type": "code",
      "execution_count": 53,
      "metadata": {
        "execution": {
          "iopub.execute_input": "2023-05-13T16:45:52.947012Z",
          "iopub.status.busy": "2023-05-13T16:45:52.946507Z",
          "iopub.status.idle": "2023-05-13T16:45:52.954290Z",
          "shell.execute_reply": "2023-05-13T16:45:52.952562Z",
          "shell.execute_reply.started": "2023-05-13T16:45:52.946957Z"
        },
        "id": "jDRkJM63DspN",
        "trusted": true
      },
      "outputs": [],
      "source": [
        "#Feature Scaling (Standardization)\n",
        "\n",
        "from sklearn.preprocessing import StandardScaler\n",
        "\n",
        "std = StandardScaler()"
      ]
    },
    {
      "cell_type": "code",
      "execution_count": 54,
      "metadata": {
        "execution": {
          "iopub.execute_input": "2023-05-13T16:45:52.957276Z",
          "iopub.status.busy": "2023-05-13T16:45:52.956397Z",
          "iopub.status.idle": "2023-05-13T16:45:52.976753Z",
          "shell.execute_reply": "2023-05-13T16:45:52.975764Z",
          "shell.execute_reply.started": "2023-05-13T16:45:52.957231Z"
        },
        "id": "6Mk1MtHGDspN",
        "trusted": true
      },
      "outputs": [],
      "source": [
        "x = data.drop(['fare_amount'], axis = 1)\n",
        "y = data['fare_amount'].values.reshape(-1, 1)"
      ]
    },
    {
      "cell_type": "code",
      "execution_count": 55,
      "metadata": {
        "execution": {
          "iopub.execute_input": "2023-05-13T16:45:52.978887Z",
          "iopub.status.busy": "2023-05-13T16:45:52.978228Z",
          "iopub.status.idle": "2023-05-13T16:45:53.024894Z",
          "shell.execute_reply": "2023-05-13T16:45:53.023629Z",
          "shell.execute_reply.started": "2023-05-13T16:45:52.978843Z"
        },
        "id": "OExIa18wDspN",
        "trusted": true
      },
      "outputs": [],
      "source": [
        "y_std = std.fit_transform(y)\n",
        "\n",
        "x_std = std.fit_transform(x)"
      ]
    },
    {
      "cell_type": "code",
      "execution_count": 56,
      "metadata": {
        "execution": {
          "iopub.execute_input": "2023-05-13T16:45:53.027402Z",
          "iopub.status.busy": "2023-05-13T16:45:53.026702Z",
          "iopub.status.idle": "2023-05-13T16:45:53.058450Z",
          "shell.execute_reply": "2023-05-13T16:45:53.056942Z",
          "shell.execute_reply.started": "2023-05-13T16:45:53.027352Z"
        },
        "id": "oWBklY5GDspN",
        "trusted": true
      },
      "outputs": [],
      "source": [
        "x_train, x_test, y_train, y_test = train_test_split(x_std, y_std, test_size = 0.3, random_state = 42)"
      ]
    },
    {
      "cell_type": "code",
      "execution_count": 57,
      "metadata": {
        "colab": {
          "base_uri": "https://localhost:8080/"
        },
        "execution": {
          "iopub.execute_input": "2023-05-13T16:45:53.060241Z",
          "iopub.status.busy": "2023-05-13T16:45:53.059871Z",
          "iopub.status.idle": "2023-05-13T16:45:53.068287Z",
          "shell.execute_reply": "2023-05-13T16:45:53.067265Z",
          "shell.execute_reply.started": "2023-05-13T16:45:53.060205Z"
        },
        "id": "e9ZWTiIRDspO",
        "outputId": "fd82d84b-ec9a-4e0c-971d-1a10332dacb5",
        "trusted": true
      },
      "outputs": [
        {
          "data": {
            "text/plain": [
              "(132342, 6)"
            ]
          },
          "execution_count": 57,
          "metadata": {},
          "output_type": "execute_result"
        }
      ],
      "source": [
        "x_train.shape"
      ]
    },
    {
      "cell_type": "code",
      "execution_count": 58,
      "metadata": {
        "colab": {
          "base_uri": "https://localhost:8080/"
        },
        "execution": {
          "iopub.execute_input": "2023-05-13T16:45:53.070468Z",
          "iopub.status.busy": "2023-05-13T16:45:53.069792Z",
          "iopub.status.idle": "2023-05-13T16:45:53.082617Z",
          "shell.execute_reply": "2023-05-13T16:45:53.081464Z",
          "shell.execute_reply.started": "2023-05-13T16:45:53.070430Z"
        },
        "id": "nlp6u7PKDspO",
        "outputId": "6d4392f5-c25f-4456-8f64-cf5147ac38d6",
        "trusted": true
      },
      "outputs": [
        {
          "data": {
            "text/plain": [
              "(132342, 1)"
            ]
          },
          "execution_count": 58,
          "metadata": {},
          "output_type": "execute_result"
        }
      ],
      "source": [
        "y_train.shape"
      ]
    },
    {
      "cell_type": "code",
      "execution_count": 59,
      "metadata": {
        "colab": {
          "base_uri": "https://localhost:8080/"
        },
        "execution": {
          "iopub.execute_input": "2023-05-13T16:45:53.084492Z",
          "iopub.status.busy": "2023-05-13T16:45:53.084028Z",
          "iopub.status.idle": "2023-05-13T16:45:53.099814Z",
          "shell.execute_reply": "2023-05-13T16:45:53.098595Z",
          "shell.execute_reply.started": "2023-05-13T16:45:53.084457Z"
        },
        "id": "0bJhtGL-DspO",
        "outputId": "757e36e3-a5da-479f-d9c1-cddb05aa9947",
        "trusted": true
      },
      "outputs": [
        {
          "data": {
            "text/plain": [
              "(56719, 6)"
            ]
          },
          "execution_count": 59,
          "metadata": {},
          "output_type": "execute_result"
        }
      ],
      "source": [
        "x_test.shape"
      ]
    },
    {
      "cell_type": "code",
      "execution_count": 60,
      "metadata": {
        "colab": {
          "base_uri": "https://localhost:8080/"
        },
        "execution": {
          "iopub.execute_input": "2023-05-13T16:45:53.102616Z",
          "iopub.status.busy": "2023-05-13T16:45:53.101803Z",
          "iopub.status.idle": "2023-05-13T16:45:53.113523Z",
          "shell.execute_reply": "2023-05-13T16:45:53.112271Z",
          "shell.execute_reply.started": "2023-05-13T16:45:53.102544Z"
        },
        "id": "JONbTsuCDspO",
        "outputId": "523ec9e6-1610-4c1e-d991-39334fae92eb",
        "trusted": true
      },
      "outputs": [
        {
          "data": {
            "text/plain": [
              "(56719, 1)"
            ]
          },
          "execution_count": 60,
          "metadata": {},
          "output_type": "execute_result"
        }
      ],
      "source": [
        "y_test.shape"
      ]
    },
    {
      "cell_type": "markdown",
      "metadata": {
        "id": "Usxwj23qDspO"
      },
      "source": [
        "# Regression Models"
      ]
    },
    {
      "cell_type": "markdown",
      "metadata": {
        "id": "_2EvEm3EDspP"
      },
      "source": [
        "## Linear Regression"
      ]
    },
    {
      "cell_type": "code",
      "execution_count": 83,
      "metadata": {
        "colab": {
          "base_uri": "https://localhost:8080/",
          "height": 75
        },
        "execution": {
          "iopub.execute_input": "2023-05-13T16:45:53.116304Z",
          "iopub.status.busy": "2023-05-13T16:45:53.115439Z",
          "iopub.status.idle": "2023-05-13T16:45:53.183075Z",
          "shell.execute_reply": "2023-05-13T16:45:53.181756Z",
          "shell.execute_reply.started": "2023-05-13T16:45:53.116254Z"
        },
        "id": "vDXmxn4BDspP",
        "outputId": "bba24015-8275-4a8c-86ea-129fea7f6c95",
        "trusted": true
      },
      "outputs": [
        {
          "data": {
            "text/html": [
              "<style>#sk-container-id-3 {color: black;background-color: white;}#sk-container-id-3 pre{padding: 0;}#sk-container-id-3 div.sk-toggleable {background-color: white;}#sk-container-id-3 label.sk-toggleable__label {cursor: pointer;display: block;width: 100%;margin-bottom: 0;padding: 0.3em;box-sizing: border-box;text-align: center;}#sk-container-id-3 label.sk-toggleable__label-arrow:before {content: \"▸\";float: left;margin-right: 0.25em;color: #696969;}#sk-container-id-3 label.sk-toggleable__label-arrow:hover:before {color: black;}#sk-container-id-3 div.sk-estimator:hover label.sk-toggleable__label-arrow:before {color: black;}#sk-container-id-3 div.sk-toggleable__content {max-height: 0;max-width: 0;overflow: hidden;text-align: left;background-color: #f0f8ff;}#sk-container-id-3 div.sk-toggleable__content pre {margin: 0.2em;color: black;border-radius: 0.25em;background-color: #f0f8ff;}#sk-container-id-3 input.sk-toggleable__control:checked~div.sk-toggleable__content {max-height: 200px;max-width: 100%;overflow: auto;}#sk-container-id-3 input.sk-toggleable__control:checked~label.sk-toggleable__label-arrow:before {content: \"▾\";}#sk-container-id-3 div.sk-estimator input.sk-toggleable__control:checked~label.sk-toggleable__label {background-color: #d4ebff;}#sk-container-id-3 div.sk-label input.sk-toggleable__control:checked~label.sk-toggleable__label {background-color: #d4ebff;}#sk-container-id-3 input.sk-hidden--visually {border: 0;clip: rect(1px 1px 1px 1px);clip: rect(1px, 1px, 1px, 1px);height: 1px;margin: -1px;overflow: hidden;padding: 0;position: absolute;width: 1px;}#sk-container-id-3 div.sk-estimator {font-family: monospace;background-color: #f0f8ff;border: 1px dotted black;border-radius: 0.25em;box-sizing: border-box;margin-bottom: 0.5em;}#sk-container-id-3 div.sk-estimator:hover {background-color: #d4ebff;}#sk-container-id-3 div.sk-parallel-item::after {content: \"\";width: 100%;border-bottom: 1px solid gray;flex-grow: 1;}#sk-container-id-3 div.sk-label:hover label.sk-toggleable__label {background-color: #d4ebff;}#sk-container-id-3 div.sk-serial::before {content: \"\";position: absolute;border-left: 1px solid gray;box-sizing: border-box;top: 0;bottom: 0;left: 50%;z-index: 0;}#sk-container-id-3 div.sk-serial {display: flex;flex-direction: column;align-items: center;background-color: white;padding-right: 0.2em;padding-left: 0.2em;position: relative;}#sk-container-id-3 div.sk-item {position: relative;z-index: 1;}#sk-container-id-3 div.sk-parallel {display: flex;align-items: stretch;justify-content: center;background-color: white;position: relative;}#sk-container-id-3 div.sk-item::before, #sk-container-id-3 div.sk-parallel-item::before {content: \"\";position: absolute;border-left: 1px solid gray;box-sizing: border-box;top: 0;bottom: 0;left: 50%;z-index: -1;}#sk-container-id-3 div.sk-parallel-item {display: flex;flex-direction: column;z-index: 1;position: relative;background-color: white;}#sk-container-id-3 div.sk-parallel-item:first-child::after {align-self: flex-end;width: 50%;}#sk-container-id-3 div.sk-parallel-item:last-child::after {align-self: flex-start;width: 50%;}#sk-container-id-3 div.sk-parallel-item:only-child::after {width: 0;}#sk-container-id-3 div.sk-dashed-wrapped {border: 1px dashed gray;margin: 0 0.4em 0.5em 0.4em;box-sizing: border-box;padding-bottom: 0.4em;background-color: white;}#sk-container-id-3 div.sk-label label {font-family: monospace;font-weight: bold;display: inline-block;line-height: 1.2em;}#sk-container-id-3 div.sk-label-container {text-align: center;}#sk-container-id-3 div.sk-container {/* jupyter's `normalize.less` sets `[hidden] { display: none; }` but bootstrap.min.css set `[hidden] { display: none !important; }` so we also need the `!important` here to be able to override the default hidden behavior on the sphinx rendered scikit-learn.org. See: https://github.com/scikit-learn/scikit-learn/issues/21755 */display: inline-block !important;position: relative;}#sk-container-id-3 div.sk-text-repr-fallback {display: none;}</style><div id=\"sk-container-id-3\" class=\"sk-top-container\"><div class=\"sk-text-repr-fallback\"><pre>LinearRegression()</pre><b>In a Jupyter environment, please rerun this cell to show the HTML representation or trust the notebook. <br />On GitHub, the HTML representation is unable to render, please try loading this page with nbviewer.org.</b></div><div class=\"sk-container\" hidden><div class=\"sk-item\"><div class=\"sk-estimator sk-toggleable\"><input class=\"sk-toggleable__control sk-hidden--visually\" id=\"sk-estimator-id-3\" type=\"checkbox\" checked><label for=\"sk-estimator-id-3\" class=\"sk-toggleable__label sk-toggleable__label-arrow\">LinearRegression</label><div class=\"sk-toggleable__content\"><pre>LinearRegression()</pre></div></div></div></div></div>"
            ],
            "text/plain": [
              "LinearRegression()"
            ]
          },
          "execution_count": 83,
          "metadata": {},
          "output_type": "execute_result"
        }
      ],
      "source": [
        "from sklearn.linear_model import LinearRegression\n",
        "LR = LinearRegression()\n",
        "LR.fit(x_train,y_train)"
      ]
    },
    {
      "cell_type": "code",
      "execution_count": 84,
      "metadata": {
        "execution": {
          "iopub.execute_input": "2023-05-13T16:45:53.185850Z",
          "iopub.status.busy": "2023-05-13T16:45:53.184988Z",
          "iopub.status.idle": "2023-05-13T16:45:53.200296Z",
          "shell.execute_reply": "2023-05-13T16:45:53.197267Z",
          "shell.execute_reply.started": "2023-05-13T16:45:53.185803Z"
        },
        "id": "wHL8hSZhDspP",
        "trusted": true
      },
      "outputs": [],
      "source": [
        "LR_pred = LR.predict(x_test)"
      ]
    },
    {
      "cell_type": "code",
      "execution_count": 85,
      "metadata": {
        "colab": {
          "base_uri": "https://localhost:8080/"
        },
        "execution": {
          "iopub.execute_input": "2023-05-13T16:45:53.209228Z",
          "iopub.status.busy": "2023-05-13T16:45:53.204431Z",
          "iopub.status.idle": "2023-05-13T16:45:53.238981Z",
          "shell.execute_reply": "2023-05-13T16:45:53.237332Z",
          "shell.execute_reply.started": "2023-05-13T16:45:53.209163Z"
        },
        "id": "IyRWJn7XDspP",
        "outputId": "0147e458-6e13-49bf-a6ad-85855227537b",
        "trusted": true
      },
      "outputs": [
        {
          "name": "stdout",
          "output_type": "stream",
          "text": [
            "Training set score: 0.65\n",
            "Test set score: 0.5782372\n"
          ]
        }
      ],
      "source": [
        "print(\"Training set score: {:.2f}\".format(LR.score(x_train, y_train)))\n",
        "print(\"Test set score: {:.7f}\".format(LR.score(x_test, y_test)))"
      ]
    },
    {
      "cell_type": "code",
      "execution_count": 86,
      "metadata": {},
      "outputs": [],
      "source": [
        "import pickle\n",
        "pickle.dump(LR, open('models/linear_model.pkl','wb'))"
      ]
    },
    {
      "cell_type": "code",
      "execution_count": 73,
      "metadata": {
        "execution": {
          "iopub.execute_input": "2023-05-13T16:45:53.243846Z",
          "iopub.status.busy": "2023-05-13T16:45:53.242390Z",
          "iopub.status.idle": "2023-05-13T16:45:53.271442Z",
          "shell.execute_reply": "2023-05-13T16:45:53.269726Z",
          "shell.execute_reply.started": "2023-05-13T16:45:53.243790Z"
        },
        "id": "iFKqZeoVDspP",
        "trusted": true
      },
      "outputs": [],
      "source": [
        "from sklearn import metrics\n",
        "from sklearn.metrics import r2_score\n",
        "\n",
        "MAE_LR= metrics.mean_absolute_error(y_test, LR_pred)\n",
        "MSE_LR= metrics.mean_squared_error(y_test, LR_pred)\n",
        "RMSE_LR= np.sqrt(metrics.mean_squared_error(y_test, LR_pred))\n",
        "r2_LR=r2_score(y_test, LR_pred)\n",
        "Adj_r2_LR=1-(1-r2_score(y_test, LR_pred))*((len(x_test)-1)/(len(x_test)-len(x_test[0])-1))"
      ]
    },
    {
      "cell_type": "markdown",
      "metadata": {
        "id": "7Q4lpa17DspQ"
      },
      "source": [
        "### Decision Tree Regressor"
      ]
    },
    {
      "cell_type": "code",
      "execution_count": 88,
      "metadata": {
        "colab": {
          "base_uri": "https://localhost:8080/",
          "height": 75
        },
        "execution": {
          "iopub.execute_input": "2023-05-13T16:45:53.296893Z",
          "iopub.status.busy": "2023-05-13T16:45:53.295440Z",
          "iopub.status.idle": "2023-05-13T16:45:54.136044Z",
          "shell.execute_reply": "2023-05-13T16:45:54.134656Z",
          "shell.execute_reply.started": "2023-05-13T16:45:53.296838Z"
        },
        "id": "n4o8YIPxDspQ",
        "outputId": "78f339a4-e3a4-4b6a-94c6-c102b83d0ac6",
        "trusted": true
      },
      "outputs": [
        {
          "data": {
            "text/html": [
              "<style>#sk-container-id-4 {color: black;background-color: white;}#sk-container-id-4 pre{padding: 0;}#sk-container-id-4 div.sk-toggleable {background-color: white;}#sk-container-id-4 label.sk-toggleable__label {cursor: pointer;display: block;width: 100%;margin-bottom: 0;padding: 0.3em;box-sizing: border-box;text-align: center;}#sk-container-id-4 label.sk-toggleable__label-arrow:before {content: \"▸\";float: left;margin-right: 0.25em;color: #696969;}#sk-container-id-4 label.sk-toggleable__label-arrow:hover:before {color: black;}#sk-container-id-4 div.sk-estimator:hover label.sk-toggleable__label-arrow:before {color: black;}#sk-container-id-4 div.sk-toggleable__content {max-height: 0;max-width: 0;overflow: hidden;text-align: left;background-color: #f0f8ff;}#sk-container-id-4 div.sk-toggleable__content pre {margin: 0.2em;color: black;border-radius: 0.25em;background-color: #f0f8ff;}#sk-container-id-4 input.sk-toggleable__control:checked~div.sk-toggleable__content {max-height: 200px;max-width: 100%;overflow: auto;}#sk-container-id-4 input.sk-toggleable__control:checked~label.sk-toggleable__label-arrow:before {content: \"▾\";}#sk-container-id-4 div.sk-estimator input.sk-toggleable__control:checked~label.sk-toggleable__label {background-color: #d4ebff;}#sk-container-id-4 div.sk-label input.sk-toggleable__control:checked~label.sk-toggleable__label {background-color: #d4ebff;}#sk-container-id-4 input.sk-hidden--visually {border: 0;clip: rect(1px 1px 1px 1px);clip: rect(1px, 1px, 1px, 1px);height: 1px;margin: -1px;overflow: hidden;padding: 0;position: absolute;width: 1px;}#sk-container-id-4 div.sk-estimator {font-family: monospace;background-color: #f0f8ff;border: 1px dotted black;border-radius: 0.25em;box-sizing: border-box;margin-bottom: 0.5em;}#sk-container-id-4 div.sk-estimator:hover {background-color: #d4ebff;}#sk-container-id-4 div.sk-parallel-item::after {content: \"\";width: 100%;border-bottom: 1px solid gray;flex-grow: 1;}#sk-container-id-4 div.sk-label:hover label.sk-toggleable__label {background-color: #d4ebff;}#sk-container-id-4 div.sk-serial::before {content: \"\";position: absolute;border-left: 1px solid gray;box-sizing: border-box;top: 0;bottom: 0;left: 50%;z-index: 0;}#sk-container-id-4 div.sk-serial {display: flex;flex-direction: column;align-items: center;background-color: white;padding-right: 0.2em;padding-left: 0.2em;position: relative;}#sk-container-id-4 div.sk-item {position: relative;z-index: 1;}#sk-container-id-4 div.sk-parallel {display: flex;align-items: stretch;justify-content: center;background-color: white;position: relative;}#sk-container-id-4 div.sk-item::before, #sk-container-id-4 div.sk-parallel-item::before {content: \"\";position: absolute;border-left: 1px solid gray;box-sizing: border-box;top: 0;bottom: 0;left: 50%;z-index: -1;}#sk-container-id-4 div.sk-parallel-item {display: flex;flex-direction: column;z-index: 1;position: relative;background-color: white;}#sk-container-id-4 div.sk-parallel-item:first-child::after {align-self: flex-end;width: 50%;}#sk-container-id-4 div.sk-parallel-item:last-child::after {align-self: flex-start;width: 50%;}#sk-container-id-4 div.sk-parallel-item:only-child::after {width: 0;}#sk-container-id-4 div.sk-dashed-wrapped {border: 1px dashed gray;margin: 0 0.4em 0.5em 0.4em;box-sizing: border-box;padding-bottom: 0.4em;background-color: white;}#sk-container-id-4 div.sk-label label {font-family: monospace;font-weight: bold;display: inline-block;line-height: 1.2em;}#sk-container-id-4 div.sk-label-container {text-align: center;}#sk-container-id-4 div.sk-container {/* jupyter's `normalize.less` sets `[hidden] { display: none; }` but bootstrap.min.css set `[hidden] { display: none !important; }` so we also need the `!important` here to be able to override the default hidden behavior on the sphinx rendered scikit-learn.org. See: https://github.com/scikit-learn/scikit-learn/issues/21755 */display: inline-block !important;position: relative;}#sk-container-id-4 div.sk-text-repr-fallback {display: none;}</style><div id=\"sk-container-id-4\" class=\"sk-top-container\"><div class=\"sk-text-repr-fallback\"><pre>DecisionTreeRegressor()</pre><b>In a Jupyter environment, please rerun this cell to show the HTML representation or trust the notebook. <br />On GitHub, the HTML representation is unable to render, please try loading this page with nbviewer.org.</b></div><div class=\"sk-container\" hidden><div class=\"sk-item\"><div class=\"sk-estimator sk-toggleable\"><input class=\"sk-toggleable__control sk-hidden--visually\" id=\"sk-estimator-id-4\" type=\"checkbox\" checked><label for=\"sk-estimator-id-4\" class=\"sk-toggleable__label sk-toggleable__label-arrow\">DecisionTreeRegressor</label><div class=\"sk-toggleable__content\"><pre>DecisionTreeRegressor()</pre></div></div></div></div></div>"
            ],
            "text/plain": [
              "DecisionTreeRegressor()"
            ]
          },
          "execution_count": 88,
          "metadata": {},
          "output_type": "execute_result"
        }
      ],
      "source": [
        "from sklearn.tree import DecisionTreeRegressor\n",
        "\n",
        "DT = DecisionTreeRegressor()\n",
        "DT.fit(x_train, y_train)"
      ]
    },
    {
      "cell_type": "code",
      "execution_count": 89,
      "metadata": {
        "execution": {
          "iopub.execute_input": "2023-05-13T16:45:54.138153Z",
          "iopub.status.busy": "2023-05-13T16:45:54.137673Z",
          "iopub.status.idle": "2023-05-13T16:45:54.178294Z",
          "shell.execute_reply": "2023-05-13T16:45:54.176908Z",
          "shell.execute_reply.started": "2023-05-13T16:45:54.138106Z"
        },
        "id": "A6XVOEVYDspQ",
        "trusted": true
      },
      "outputs": [],
      "source": [
        "DTpreds = DT.predict(x_test)\n",
        "import pickle\n",
        "pickle.dump(DT, open('models/decision_tree_model.pkl','wb'))"
      ]
    },
    {
      "cell_type": "code",
      "execution_count": 77,
      "metadata": {
        "colab": {
          "base_uri": "https://localhost:8080/"
        },
        "execution": {
          "iopub.execute_input": "2023-05-13T16:45:54.180175Z",
          "iopub.status.busy": "2023-05-13T16:45:54.179782Z",
          "iopub.status.idle": "2023-05-13T16:45:54.303122Z",
          "shell.execute_reply": "2023-05-13T16:45:54.301900Z",
          "shell.execute_reply.started": "2023-05-13T16:45:54.180136Z"
        },
        "id": "Bk1gAF1HDspQ",
        "outputId": "7455d7be-3148-422b-d640-8154226e3191",
        "trusted": true
      },
      "outputs": [
        {
          "name": "stdout",
          "output_type": "stream",
          "text": [
            "Training set score: 1.00\n",
            "Test set score: 0.6234840\n"
          ]
        }
      ],
      "source": [
        "print(\"Training set score: {:.2f}\".format(DT.score(x_train, y_train)))\n",
        "print(\"Test set score: {:.7f}\".format(DT.score(x_test, y_test)))"
      ]
    },
    {
      "cell_type": "code",
      "execution_count": null,
      "metadata": {
        "execution": {
          "iopub.execute_input": "2023-05-13T16:45:54.305028Z",
          "iopub.status.busy": "2023-05-13T16:45:54.304595Z",
          "iopub.status.idle": "2023-05-13T16:45:54.317492Z",
          "shell.execute_reply": "2023-05-13T16:45:54.316081Z",
          "shell.execute_reply.started": "2023-05-13T16:45:54.304992Z"
        },
        "id": "WO3jTW1TDspQ",
        "trusted": true
      },
      "outputs": [],
      "source": [
        "MAE_DT= metrics.mean_absolute_error(y_test, DTpreds)\n",
        "MSE_DT= metrics.mean_squared_error(y_test, DTpreds)\n",
        "RMSE_DT= np.sqrt(metrics.mean_squared_error(y_test, DTpreds))\n",
        "r2_DT=r2_score(y_test, DTpreds)\n",
        "Adj_r2_DT=1-(1-r2_score(y_test, DTpreds))*((len(x_test)-1)/(len(x_test)-len(x_test[0])-1))"
      ]
    },
    {
      "cell_type": "code",
      "execution_count": null,
      "metadata": {},
      "outputs": [],
      "source": []
    }
  ],
  "metadata": {
    "colab": {
      "provenance": []
    },
    "kernelspec": {
      "display_name": "Python 3",
      "language": "python",
      "name": "python3"
    },
    "language_info": {
      "codemirror_mode": {
        "name": "ipython",
        "version": 3
      },
      "file_extension": ".py",
      "mimetype": "text/x-python",
      "name": "python",
      "nbconvert_exporter": "python",
      "pygments_lexer": "ipython3",
      "version": "3.11.3"
    }
  },
  "nbformat": 4,
  "nbformat_minor": 0
}
